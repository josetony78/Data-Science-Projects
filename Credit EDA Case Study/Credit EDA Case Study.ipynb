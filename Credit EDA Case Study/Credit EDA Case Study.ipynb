{
 "cells": [
  {
   "cell_type": "code",
   "execution_count": 1,
   "metadata": {},
   "outputs": [],
   "source": [
    "import pandas as pd\n",
    "import numpy as np\n",
    "import seaborn as sns\n",
    "import matplotlib as mp\n",
    "from matplotlib import pyplot as plt\n",
    "from numpy import where as IF\n",
    "%matplotlib inline\n",
    "pd.options.display.max_rows=500\n",
    "import warnings\n",
    "warnings.filterwarnings(\"ignore\")"
   ]
  },
  {
   "cell_type": "code",
   "execution_count": 2,
   "metadata": {},
   "outputs": [
    {
     "ename": "FileNotFoundError",
     "evalue": "[Errno 2] File D:\\Course\\UPGRAD\\Assignments\\Credit EDA Case Study\\Submission Files\\application_data.csv does not exist: 'D:\\\\Course\\\\UPGRAD\\\\Assignments\\\\Credit EDA Case Study\\\\Submission Files\\\\application_data.csv'",
     "output_type": "error",
     "traceback": [
      "\u001b[1;31m---------------------------------------------------------------------------\u001b[0m",
      "\u001b[1;31mFileNotFoundError\u001b[0m                         Traceback (most recent call last)",
      "\u001b[1;32m<ipython-input-2-55c0f98fd77f>\u001b[0m in \u001b[0;36m<module>\u001b[1;34m\u001b[0m\n\u001b[0;32m      1\u001b[0m \u001b[1;31m# Importing the dataset into python\u001b[0m\u001b[1;33m\u001b[0m\u001b[1;33m\u001b[0m\u001b[1;33m\u001b[0m\u001b[0m\n\u001b[1;32m----> 2\u001b[1;33m \u001b[0mappdata\u001b[0m\u001b[1;33m=\u001b[0m\u001b[0mpd\u001b[0m\u001b[1;33m.\u001b[0m\u001b[0mread_csv\u001b[0m\u001b[1;33m(\u001b[0m\u001b[1;34m'D:\\\\Course\\\\UPGRAD\\\\Assignments\\\\Credit EDA Case Study\\\\Submission Files\\\\application_data.csv'\u001b[0m\u001b[1;33m)\u001b[0m\u001b[1;33m\u001b[0m\u001b[1;33m\u001b[0m\u001b[0m\n\u001b[0m\u001b[0;32m      3\u001b[0m \u001b[0mprevdata\u001b[0m\u001b[1;33m=\u001b[0m\u001b[0mpd\u001b[0m\u001b[1;33m.\u001b[0m\u001b[0mread_csv\u001b[0m\u001b[1;33m(\u001b[0m\u001b[1;34m'D:\\\\Course\\\\UPGRAD\\\\Assignments\\\\Credit EDA Case Study\\\\Submission Files\\\\previous_application.csv'\u001b[0m\u001b[1;33m)\u001b[0m\u001b[1;33m\u001b[0m\u001b[1;33m\u001b[0m\u001b[0m\n",
      "\u001b[1;32mC:\\ProgramData\\Anaconda3\\lib\\site-packages\\pandas\\io\\parsers.py\u001b[0m in \u001b[0;36mparser_f\u001b[1;34m(filepath_or_buffer, sep, delimiter, header, names, index_col, usecols, squeeze, prefix, mangle_dupe_cols, dtype, engine, converters, true_values, false_values, skipinitialspace, skiprows, skipfooter, nrows, na_values, keep_default_na, na_filter, verbose, skip_blank_lines, parse_dates, infer_datetime_format, keep_date_col, date_parser, dayfirst, cache_dates, iterator, chunksize, compression, thousands, decimal, lineterminator, quotechar, quoting, doublequote, escapechar, comment, encoding, dialect, error_bad_lines, warn_bad_lines, delim_whitespace, low_memory, memory_map, float_precision)\u001b[0m\n\u001b[0;32m    674\u001b[0m         )\n\u001b[0;32m    675\u001b[0m \u001b[1;33m\u001b[0m\u001b[0m\n\u001b[1;32m--> 676\u001b[1;33m         \u001b[1;32mreturn\u001b[0m \u001b[0m_read\u001b[0m\u001b[1;33m(\u001b[0m\u001b[0mfilepath_or_buffer\u001b[0m\u001b[1;33m,\u001b[0m \u001b[0mkwds\u001b[0m\u001b[1;33m)\u001b[0m\u001b[1;33m\u001b[0m\u001b[1;33m\u001b[0m\u001b[0m\n\u001b[0m\u001b[0;32m    677\u001b[0m \u001b[1;33m\u001b[0m\u001b[0m\n\u001b[0;32m    678\u001b[0m     \u001b[0mparser_f\u001b[0m\u001b[1;33m.\u001b[0m\u001b[0m__name__\u001b[0m \u001b[1;33m=\u001b[0m \u001b[0mname\u001b[0m\u001b[1;33m\u001b[0m\u001b[1;33m\u001b[0m\u001b[0m\n",
      "\u001b[1;32mC:\\ProgramData\\Anaconda3\\lib\\site-packages\\pandas\\io\\parsers.py\u001b[0m in \u001b[0;36m_read\u001b[1;34m(filepath_or_buffer, kwds)\u001b[0m\n\u001b[0;32m    446\u001b[0m \u001b[1;33m\u001b[0m\u001b[0m\n\u001b[0;32m    447\u001b[0m     \u001b[1;31m# Create the parser.\u001b[0m\u001b[1;33m\u001b[0m\u001b[1;33m\u001b[0m\u001b[1;33m\u001b[0m\u001b[0m\n\u001b[1;32m--> 448\u001b[1;33m     \u001b[0mparser\u001b[0m \u001b[1;33m=\u001b[0m \u001b[0mTextFileReader\u001b[0m\u001b[1;33m(\u001b[0m\u001b[0mfp_or_buf\u001b[0m\u001b[1;33m,\u001b[0m \u001b[1;33m**\u001b[0m\u001b[0mkwds\u001b[0m\u001b[1;33m)\u001b[0m\u001b[1;33m\u001b[0m\u001b[1;33m\u001b[0m\u001b[0m\n\u001b[0m\u001b[0;32m    449\u001b[0m \u001b[1;33m\u001b[0m\u001b[0m\n\u001b[0;32m    450\u001b[0m     \u001b[1;32mif\u001b[0m \u001b[0mchunksize\u001b[0m \u001b[1;32mor\u001b[0m \u001b[0miterator\u001b[0m\u001b[1;33m:\u001b[0m\u001b[1;33m\u001b[0m\u001b[1;33m\u001b[0m\u001b[0m\n",
      "\u001b[1;32mC:\\ProgramData\\Anaconda3\\lib\\site-packages\\pandas\\io\\parsers.py\u001b[0m in \u001b[0;36m__init__\u001b[1;34m(self, f, engine, **kwds)\u001b[0m\n\u001b[0;32m    878\u001b[0m             \u001b[0mself\u001b[0m\u001b[1;33m.\u001b[0m\u001b[0moptions\u001b[0m\u001b[1;33m[\u001b[0m\u001b[1;34m\"has_index_names\"\u001b[0m\u001b[1;33m]\u001b[0m \u001b[1;33m=\u001b[0m \u001b[0mkwds\u001b[0m\u001b[1;33m[\u001b[0m\u001b[1;34m\"has_index_names\"\u001b[0m\u001b[1;33m]\u001b[0m\u001b[1;33m\u001b[0m\u001b[1;33m\u001b[0m\u001b[0m\n\u001b[0;32m    879\u001b[0m \u001b[1;33m\u001b[0m\u001b[0m\n\u001b[1;32m--> 880\u001b[1;33m         \u001b[0mself\u001b[0m\u001b[1;33m.\u001b[0m\u001b[0m_make_engine\u001b[0m\u001b[1;33m(\u001b[0m\u001b[0mself\u001b[0m\u001b[1;33m.\u001b[0m\u001b[0mengine\u001b[0m\u001b[1;33m)\u001b[0m\u001b[1;33m\u001b[0m\u001b[1;33m\u001b[0m\u001b[0m\n\u001b[0m\u001b[0;32m    881\u001b[0m \u001b[1;33m\u001b[0m\u001b[0m\n\u001b[0;32m    882\u001b[0m     \u001b[1;32mdef\u001b[0m \u001b[0mclose\u001b[0m\u001b[1;33m(\u001b[0m\u001b[0mself\u001b[0m\u001b[1;33m)\u001b[0m\u001b[1;33m:\u001b[0m\u001b[1;33m\u001b[0m\u001b[1;33m\u001b[0m\u001b[0m\n",
      "\u001b[1;32mC:\\ProgramData\\Anaconda3\\lib\\site-packages\\pandas\\io\\parsers.py\u001b[0m in \u001b[0;36m_make_engine\u001b[1;34m(self, engine)\u001b[0m\n\u001b[0;32m   1112\u001b[0m     \u001b[1;32mdef\u001b[0m \u001b[0m_make_engine\u001b[0m\u001b[1;33m(\u001b[0m\u001b[0mself\u001b[0m\u001b[1;33m,\u001b[0m \u001b[0mengine\u001b[0m\u001b[1;33m=\u001b[0m\u001b[1;34m\"c\"\u001b[0m\u001b[1;33m)\u001b[0m\u001b[1;33m:\u001b[0m\u001b[1;33m\u001b[0m\u001b[1;33m\u001b[0m\u001b[0m\n\u001b[0;32m   1113\u001b[0m         \u001b[1;32mif\u001b[0m \u001b[0mengine\u001b[0m \u001b[1;33m==\u001b[0m \u001b[1;34m\"c\"\u001b[0m\u001b[1;33m:\u001b[0m\u001b[1;33m\u001b[0m\u001b[1;33m\u001b[0m\u001b[0m\n\u001b[1;32m-> 1114\u001b[1;33m             \u001b[0mself\u001b[0m\u001b[1;33m.\u001b[0m\u001b[0m_engine\u001b[0m \u001b[1;33m=\u001b[0m \u001b[0mCParserWrapper\u001b[0m\u001b[1;33m(\u001b[0m\u001b[0mself\u001b[0m\u001b[1;33m.\u001b[0m\u001b[0mf\u001b[0m\u001b[1;33m,\u001b[0m \u001b[1;33m**\u001b[0m\u001b[0mself\u001b[0m\u001b[1;33m.\u001b[0m\u001b[0moptions\u001b[0m\u001b[1;33m)\u001b[0m\u001b[1;33m\u001b[0m\u001b[1;33m\u001b[0m\u001b[0m\n\u001b[0m\u001b[0;32m   1115\u001b[0m         \u001b[1;32melse\u001b[0m\u001b[1;33m:\u001b[0m\u001b[1;33m\u001b[0m\u001b[1;33m\u001b[0m\u001b[0m\n\u001b[0;32m   1116\u001b[0m             \u001b[1;32mif\u001b[0m \u001b[0mengine\u001b[0m \u001b[1;33m==\u001b[0m \u001b[1;34m\"python\"\u001b[0m\u001b[1;33m:\u001b[0m\u001b[1;33m\u001b[0m\u001b[1;33m\u001b[0m\u001b[0m\n",
      "\u001b[1;32mC:\\ProgramData\\Anaconda3\\lib\\site-packages\\pandas\\io\\parsers.py\u001b[0m in \u001b[0;36m__init__\u001b[1;34m(self, src, **kwds)\u001b[0m\n\u001b[0;32m   1889\u001b[0m         \u001b[0mkwds\u001b[0m\u001b[1;33m[\u001b[0m\u001b[1;34m\"usecols\"\u001b[0m\u001b[1;33m]\u001b[0m \u001b[1;33m=\u001b[0m \u001b[0mself\u001b[0m\u001b[1;33m.\u001b[0m\u001b[0musecols\u001b[0m\u001b[1;33m\u001b[0m\u001b[1;33m\u001b[0m\u001b[0m\n\u001b[0;32m   1890\u001b[0m \u001b[1;33m\u001b[0m\u001b[0m\n\u001b[1;32m-> 1891\u001b[1;33m         \u001b[0mself\u001b[0m\u001b[1;33m.\u001b[0m\u001b[0m_reader\u001b[0m \u001b[1;33m=\u001b[0m \u001b[0mparsers\u001b[0m\u001b[1;33m.\u001b[0m\u001b[0mTextReader\u001b[0m\u001b[1;33m(\u001b[0m\u001b[0msrc\u001b[0m\u001b[1;33m,\u001b[0m \u001b[1;33m**\u001b[0m\u001b[0mkwds\u001b[0m\u001b[1;33m)\u001b[0m\u001b[1;33m\u001b[0m\u001b[1;33m\u001b[0m\u001b[0m\n\u001b[0m\u001b[0;32m   1892\u001b[0m         \u001b[0mself\u001b[0m\u001b[1;33m.\u001b[0m\u001b[0munnamed_cols\u001b[0m \u001b[1;33m=\u001b[0m \u001b[0mself\u001b[0m\u001b[1;33m.\u001b[0m\u001b[0m_reader\u001b[0m\u001b[1;33m.\u001b[0m\u001b[0munnamed_cols\u001b[0m\u001b[1;33m\u001b[0m\u001b[1;33m\u001b[0m\u001b[0m\n\u001b[0;32m   1893\u001b[0m \u001b[1;33m\u001b[0m\u001b[0m\n",
      "\u001b[1;32mpandas\\_libs\\parsers.pyx\u001b[0m in \u001b[0;36mpandas._libs.parsers.TextReader.__cinit__\u001b[1;34m()\u001b[0m\n",
      "\u001b[1;32mpandas\\_libs\\parsers.pyx\u001b[0m in \u001b[0;36mpandas._libs.parsers.TextReader._setup_parser_source\u001b[1;34m()\u001b[0m\n",
      "\u001b[1;31mFileNotFoundError\u001b[0m: [Errno 2] File D:\\Course\\UPGRAD\\Assignments\\Credit EDA Case Study\\Submission Files\\application_data.csv does not exist: 'D:\\\\Course\\\\UPGRAD\\\\Assignments\\\\Credit EDA Case Study\\\\Submission Files\\\\application_data.csv'"
     ]
    }
   ],
   "source": [
    "# Importing the dataset into python\n",
    "appdata=pd.read_csv('D:\\\\Course\\\\UPGRAD\\\\Assignments\\\\Credit EDA Case Study\\\\Submission Files\\\\application_data.csv')\n",
    "prevdata=pd.read_csv('D:\\\\Course\\\\UPGRAD\\\\Assignments\\\\Credit EDA Case Study\\\\Submission Files\\\\previous_application.csv')"
   ]
  },
  {
   "cell_type": "code",
   "execution_count": null,
   "metadata": {},
   "outputs": [],
   "source": [
    "# Displaying top 3 records from the application_data dataset\n",
    "appdata.head(3)"
   ]
  },
  {
   "cell_type": "code",
   "execution_count": null,
   "metadata": {
    "scrolled": true
   },
   "outputs": [],
   "source": [
    "# Displaying top 3 records from the previous_data dataset\n",
    "prevdata.head(3)"
   ]
  },
  {
   "cell_type": "code",
   "execution_count": null,
   "metadata": {},
   "outputs": [],
   "source": [
    "# Basic Information about the Application Data dataset using the info function\n",
    "print(appdata.info())"
   ]
  },
  {
   "cell_type": "code",
   "execution_count": null,
   "metadata": {},
   "outputs": [],
   "source": [
    "# Basic Information about the Previous Data dataset using the info function\n",
    "print(prevdata.info())"
   ]
  },
  {
   "cell_type": "code",
   "execution_count": null,
   "metadata": {},
   "outputs": [],
   "source": [
    "# Displaying total number of rows and columns of Application Data\n",
    "print(appdata.shape)"
   ]
  },
  {
   "cell_type": "code",
   "execution_count": null,
   "metadata": {},
   "outputs": [],
   "source": [
    "# Displaying total number of rows and columns of Previous Data\n",
    "print(prevdata.shape)"
   ]
  },
  {
   "cell_type": "code",
   "execution_count": null,
   "metadata": {},
   "outputs": [],
   "source": [
    "# Describing numerical data in application data with basic statistical analysis.\n",
    "appdata.describe()"
   ]
  },
  {
   "cell_type": "code",
   "execution_count": null,
   "metadata": {},
   "outputs": [],
   "source": [
    "# Describing numerical data in previous data with basic statistical analysis.\n",
    "prevdata.describe()"
   ]
  },
  {
   "cell_type": "code",
   "execution_count": null,
   "metadata": {},
   "outputs": [],
   "source": [
    "# Columns in Application Data Dataset.\n",
    "list(appdata.columns)"
   ]
  },
  {
   "cell_type": "code",
   "execution_count": null,
   "metadata": {},
   "outputs": [],
   "source": [
    "# Columns in Previous Data Dataset.\n",
    "list(prevdata.columns)"
   ]
  },
  {
   "cell_type": "markdown",
   "metadata": {},
   "source": [
    "## Cleaning Data"
   ]
  },
  {
   "cell_type": "code",
   "execution_count": null,
   "metadata": {},
   "outputs": [],
   "source": [
    "# Removing data of columns which have more than 40% of missing data\n",
    "cols = appdata.columns[appdata.isnull().mean() > 0.40]\n",
    "clean_data = appdata.drop(columns = cols)"
   ]
  },
  {
   "cell_type": "code",
   "execution_count": null,
   "metadata": {},
   "outputs": [],
   "source": [
    "# Displaying New data after removal of 40% missing data. - IN PERCENTAGE\n",
    "clean_data.isnull().sum()/clean_data.shape[0]*100"
   ]
  },
  {
   "cell_type": "code",
   "execution_count": null,
   "metadata": {},
   "outputs": [],
   "source": [
    "# Imputing the mean values in columns which have an approx missing value of 13%\n",
    "clean_data.AMT_REQ_CREDIT_BUREAU_HOUR = clean_data.AMT_REQ_CREDIT_BUREAU_HOUR.fillna(clean_data.AMT_REQ_CREDIT_BUREAU_HOUR.mean()) \n",
    "clean_data.AMT_REQ_CREDIT_BUREAU_DAY = clean_data.AMT_REQ_CREDIT_BUREAU_DAY.fillna(clean_data.AMT_REQ_CREDIT_BUREAU_DAY.mean()) \n",
    "clean_data.AMT_REQ_CREDIT_BUREAU_WEEK = clean_data.AMT_REQ_CREDIT_BUREAU_WEEK.fillna(clean_data.AMT_REQ_CREDIT_BUREAU_WEEK.mean()) \n",
    "clean_data.AMT_REQ_CREDIT_BUREAU_MON = clean_data.AMT_REQ_CREDIT_BUREAU_MON.fillna(clean_data.AMT_REQ_CREDIT_BUREAU_MON.mean()) \n",
    "clean_data.AMT_REQ_CREDIT_BUREAU_QRT = clean_data.AMT_REQ_CREDIT_BUREAU_QRT.fillna(clean_data.AMT_REQ_CREDIT_BUREAU_QRT.mean()) \n",
    "clean_data.AMT_REQ_CREDIT_BUREAU_YEAR = clean_data.AMT_REQ_CREDIT_BUREAU_YEAR.fillna(clean_data.AMT_REQ_CREDIT_BUREAU_YEAR.mean()) \n",
    "clean_data.info()"
   ]
  },
  {
   "cell_type": "code",
   "execution_count": null,
   "metadata": {},
   "outputs": [],
   "source": [
    "# Displaying the new data after the imputation of 13% missing data. IN PERCENTAGE\n",
    "clean_data.isnull().sum()/clean_data.shape[0]*100"
   ]
  },
  {
   "cell_type": "code",
   "execution_count": null,
   "metadata": {},
   "outputs": [],
   "source": [
    "# Displaying the dataset after performing data cleaning.\n",
    "clean_data"
   ]
  },
  {
   "cell_type": "markdown",
   "metadata": {},
   "source": [
    "## Outliers"
   ]
  },
  {
   "cell_type": "code",
   "execution_count": null,
   "metadata": {
    "scrolled": true
   },
   "outputs": [],
   "source": [
    "# Using IQR method for Outlier detection. Finding Quartile 1 value and Quartile 3 value.\n",
    "q1= clean_data.quantile(0.25)  # Quartile 1\n",
    "q3 = clean_data.quantile(0.75) # Quartile 3 \n",
    "iqr = q3 - q1        # iqr(Inter Quantile Range) = Quartile 3 - Quartile 1\n",
    "lc = q1 -(1.5 * iqr) # lc= Lower Cap/Lower Bound\n",
    "uc = q3 +(1.5 * iqr) # uc= Upper Cap/Upper Bound\n",
    "q1"
   ]
  },
  {
   "cell_type": "code",
   "execution_count": null,
   "metadata": {},
   "outputs": [],
   "source": [
    "# Checking the data types of different columns\n",
    "clean_data.dtypes"
   ]
  },
  {
   "cell_type": "code",
   "execution_count": null,
   "metadata": {},
   "outputs": [],
   "source": [
    "# Plotting box plot of 4 columns which have high number of outliers\n",
    "fig,ax=plt.subplots(figsize=(15,6))\n",
    "clean_data.boxplot(column=['AMT_INCOME_TOTAL','AMT_CREDIT','AMT_ANNUITY','AMT_GOODS_PRICE'],ax=ax)\n",
    "plt.xticks(rotation=0)\n",
    "plt.yscale('log',basey=10) # Converting Y-Axis into LogBase10 for proper plotting of values\n",
    "plt.xlabel('Columns with Outlier')\n",
    "plt.ylabel('Log Base 10 for Outlier')\n",
    "plt.title('Outliers in data')\n",
    "plt.show()"
   ]
  },
  {
   "cell_type": "code",
   "execution_count": null,
   "metadata": {},
   "outputs": [],
   "source": [
    "# Binning of continuous the data and plotting it on a historgram - 1\n",
    "clean_data.hist('DAYS_BIRTH',bins=20,figsize=(12,5))\n",
    "plt.xlabel('Clients age in days at the time of application')\n",
    "plt.title('Bining of continuous variable')\n",
    "plt.show()"
   ]
  },
  {
   "cell_type": "code",
   "execution_count": null,
   "metadata": {},
   "outputs": [],
   "source": [
    "# Binning of continuous the data and plotting it on a historgram - 2\n",
    "clean_data.hist('AMT_CREDIT',bins=20,figsize=(12,8))\n",
    "plt.xlabel('Credit amount of the loan')\n",
    "plt.title('Bining of continuous variable')\n",
    "plt.show()"
   ]
  },
  {
   "cell_type": "code",
   "execution_count": null,
   "metadata": {},
   "outputs": [],
   "source": [
    "# Imbalance in Data\n",
    "# Formula_for_Imbalance_percentage = (#Rows where target=1/Total Number of rows)*100\n",
    "rows_target_1=clean_data.TARGET.loc[(clean_data.TARGET==1)].count()\n",
    "total_rows=clean_data.shape[0]\n",
    "imbalancepercentage_1= (rows_target_1/total_rows)*100\n",
    "imbalancepercentage_1"
   ]
  },
  {
   "cell_type": "code",
   "execution_count": null,
   "metadata": {},
   "outputs": [],
   "source": [
    "rows_target_0=clean_data.TARGET.loc[(clean_data.TARGET==0)].count()\n",
    "imbalancepercentage_0=(rows_target_0/total_rows)*100\n",
    "imbalancepercentage_0"
   ]
  },
  {
   "cell_type": "markdown",
   "metadata": {},
   "source": [
    "<b>We have found out the imbalance percentage for target 0 and imbalance percentage for target 1. For proper balanced data the imbalance percentage must be approximately 50/50. As in the above data we can see the imbalance is 8.07/91.93 and so we can conclude that the data is Imbalanced.</b>"
   ]
  },
  {
   "cell_type": "code",
   "execution_count": null,
   "metadata": {},
   "outputs": [],
   "source": [
    "TARGET_0 = clean_data.loc[(clean_data.TARGET==0)] # segregating cleaned data as per Target=0\n",
    "TARGET_1 = clean_data.loc[(clean_data.TARGET==1)] # segregating cleaned data as per Target=1"
   ]
  },
  {
   "cell_type": "markdown",
   "metadata": {},
   "source": [
    "### UNIVARIATE ANALYSIS"
   ]
  },
  {
   "cell_type": "code",
   "execution_count": null,
   "metadata": {},
   "outputs": [],
   "source": [
    "# Univariate analysis on data with Target=0\n",
    "fig,ax = plt.subplots(figsize = (10,4))\n",
    "TARGET_0.CODE_GENDER.value_counts().plot(kind = 'bar',color = ['red','green'])\n",
    "plt.xticks(rotation=0)\n",
    "plt.xlabel('Gender')\n",
    "plt.title('Univariate Analysis - all other cases')\n",
    "plt.show()"
   ]
  },
  {
   "cell_type": "code",
   "execution_count": null,
   "metadata": {},
   "outputs": [],
   "source": [
    "# Univariate analysis on data with Target=1\n",
    "fig,ax = plt.subplots(figsize = (10,4))\n",
    "TARGET_1.CODE_GENDER.value_counts().plot(kind = 'bar',color = ['red','green'])\n",
    "plt.xticks(rotation=0)\n",
    "plt.xlabel('Gender')\n",
    "plt.title('Univariate Analysis - Client with payment difficulties')\n",
    "plt.show()"
   ]
  },
  {
   "cell_type": "code",
   "execution_count": null,
   "metadata": {},
   "outputs": [],
   "source": [
    "# Univariate analysis on data with Target=0\n",
    "fig,ax = plt.subplots(figsize = (10,4))\n",
    "TARGET_0.OCCUPATION_TYPE.value_counts().plot(kind = 'bar',color = ['blue'])\n",
    "plt.xlabel('Occupation Type')\n",
    "plt.title('Univariate Analysis for Occupation Type - all other cases')\n",
    "plt.show()"
   ]
  },
  {
   "cell_type": "code",
   "execution_count": null,
   "metadata": {},
   "outputs": [],
   "source": [
    "fig,ax = plt.subplots(figsize = (10,4))\n",
    "TARGET_1.OCCUPATION_TYPE.value_counts().plot(kind = 'bar',color = ['red'])\n",
    "plt.xlabel('Occupation Type')\n",
    "plt.title('Univariate Analysis for Client with payment difficulties')\n",
    "plt.show()"
   ]
  },
  {
   "cell_type": "markdown",
   "metadata": {},
   "source": [
    "### BIVARIATE ANALYSIS"
   ]
  },
  {
   "cell_type": "code",
   "execution_count": null,
   "metadata": {
    "scrolled": true
   },
   "outputs": [],
   "source": [
    "fig,ax=plt.subplots(1,1,figsize=(15,4))\n",
    "sns.barplot(data=TARGET_0,x='OCCUPATION_TYPE',y='AMT_INCOME_TOTAL',ax=ax)\n",
    "plt.xticks(rotation='vertical')\n",
    "plt.ylabel('Income Amount')\n",
    "plt.xlabel('Occupation Type')\n",
    "plt.title('Bivariate Analysis - all other cases')\n",
    "plt.show()"
   ]
  },
  {
   "cell_type": "code",
   "execution_count": null,
   "metadata": {},
   "outputs": [],
   "source": [
    "fig,ax=plt.subplots(1,1,figsize=(15,4))\n",
    "sns.barplot(data=TARGET_1,x='OCCUPATION_TYPE',y='AMT_INCOME_TOTAL',ax=ax)\n",
    "plt.xticks(rotation='vertical')\n",
    "plt.ylabel('Income Amount')\n",
    "plt.xlabel('Occupation Type')\n",
    "plt.title('Bivariate Analysis - Client with payment difficulties')\n",
    "plt.show()"
   ]
  },
  {
   "cell_type": "code",
   "execution_count": null,
   "metadata": {},
   "outputs": [],
   "source": [
    "fig,ax=plt.subplots(1,1,figsize=(15,4))\n",
    "sns.barplot(data=TARGET_0,x='NAME_FAMILY_STATUS',y='AMT_INCOME_TOTAL',ax=ax)\n",
    "plt.xticks(rotation='vertical')\n",
    "plt.xticks(rotation=0)\n",
    "plt.xlabel('Family Status')\n",
    "plt.ylabel('Income Amount')\n",
    "plt.title('Bivariate Analysis - all other cases')\n",
    "plt.show()"
   ]
  },
  {
   "cell_type": "code",
   "execution_count": null,
   "metadata": {},
   "outputs": [],
   "source": [
    "fig,ax=plt.subplots(1,1,figsize=(15,4))\n",
    "sns.barplot(data=TARGET_1,x='NAME_FAMILY_STATUS',y='AMT_INCOME_TOTAL',ax=ax)\n",
    "plt.xticks(rotation='vertical')\n",
    "plt.xticks(rotation=0)\n",
    "plt.xlabel('Family Status')\n",
    "plt.ylabel('Income Amount')\n",
    "plt.title('Bivariate Analysis - Client with payment difficulties')\n",
    "plt.show()"
   ]
  },
  {
   "cell_type": "markdown",
   "metadata": {},
   "source": [
    "## Segmented Univariate Analysis"
   ]
  },
  {
   "cell_type": "code",
   "execution_count": null,
   "metadata": {},
   "outputs": [],
   "source": [
    "# # Categorising each state into its respective quantile i.e C1 C2 C3 and C4.\n",
    "clean_data['income_range']=IF(clean_data['AMT_INCOME_TOTAL']<=25000,'0-25000',\n",
    "                IF((clean_data['AMT_INCOME_TOTAL']>25000) & (clean_data['AMT_INCOME_TOTAL']<=50000),'25001 - 50000',\n",
    "                IF((clean_data['AMT_INCOME_TOTAL']>50000) & (clean_data['AMT_INCOME_TOTAL']<=75000),'50001 - 75000',\n",
    "                IF((clean_data['AMT_INCOME_TOTAL']>75000) & (clean_data['AMT_INCOME_TOTAL']<=100000 ),'75001 - 100000',\n",
    "                IF((clean_data['AMT_INCOME_TOTAL']>100000) & (clean_data['AMT_INCOME_TOTAL']<=250000 ),'100001 - 250000',\n",
    "                IF((clean_data['AMT_INCOME_TOTAL']>250000) & (clean_data['AMT_INCOME_TOTAL']<=500000 ),'250001 - 500000',\n",
    "                IF((clean_data['AMT_INCOME_TOTAL']>500000) & (clean_data['AMT_INCOME_TOTAL']<=1000000 ),'500001 - 1000000',\n",
    "                IF((clean_data['AMT_INCOME_TOTAL']>500000) & (clean_data['AMT_INCOME_TOTAL']<=1000000 ),'500001 - 1000000',\n",
    "                IF((clean_data['AMT_INCOME_TOTAL']>1000000),'Above 1000000','')))))))))"
   ]
  },
  {
   "cell_type": "code",
   "execution_count": null,
   "metadata": {},
   "outputs": [],
   "source": [
    "segmenteddata=clean_data.groupby(['income_range']).count().reset_index()\n",
    "fig,ax=plt.subplots(1,1,figsize=(15,8))\n",
    "sns.barplot(data=segmenteddata,x='income_range',y='AMT_INCOME_TOTAL')\n",
    "plt.ylabel('Income Amount')\n",
    "plt.xlabel('Income Range')\n",
    "plt.title('Segmented Univariate Analysis')\n",
    "plt.show()"
   ]
  },
  {
   "cell_type": "code",
   "execution_count": null,
   "metadata": {},
   "outputs": [],
   "source": [
    "TARGET_0['income_range']=IF(TARGET_0['AMT_INCOME_TOTAL']<=25000,'0-25000',\n",
    "                IF((TARGET_0['AMT_INCOME_TOTAL']>25000) & (TARGET_0['AMT_INCOME_TOTAL']<=50000),'25001 - 50000',\n",
    "                IF((TARGET_0['AMT_INCOME_TOTAL']>50000) & (TARGET_0['AMT_INCOME_TOTAL']<=75000),'50001 - 75000',\n",
    "                IF((TARGET_0['AMT_INCOME_TOTAL']>75000) & (TARGET_0['AMT_INCOME_TOTAL']<=100000 ),'75001 - 100000',\n",
    "                IF((TARGET_0['AMT_INCOME_TOTAL']>100000) & (TARGET_0['AMT_INCOME_TOTAL']<=250000 ),'100001 - 250000',\n",
    "                IF((TARGET_0['AMT_INCOME_TOTAL']>250000) & (TARGET_0['AMT_INCOME_TOTAL']<=500000 ),'250001 - 500000',\n",
    "                IF((TARGET_0['AMT_INCOME_TOTAL']>500000) & (TARGET_0['AMT_INCOME_TOTAL']<=1000000 ),'500001 - 1000000',\n",
    "                IF((TARGET_0['AMT_INCOME_TOTAL']>500000) & (TARGET_0['AMT_INCOME_TOTAL']<=1000000 ),'500001 - 1000000',\n",
    "                IF((TARGET_0['AMT_INCOME_TOTAL']>1000000),'Above 1000000','')))))))))\n",
    "#------------------------------------------------------------------------------------------------------------------------\n",
    "TARGET_1['income_range']=IF(TARGET_1['AMT_INCOME_TOTAL']<=25000,'0-25000',\n",
    "                IF((TARGET_1['AMT_INCOME_TOTAL']>25000) & (TARGET_1['AMT_INCOME_TOTAL']<=50000),'25001 - 50000',\n",
    "                IF((TARGET_1['AMT_INCOME_TOTAL']>50000) & (TARGET_1['AMT_INCOME_TOTAL']<=75000),'50001 - 75000',\n",
    "                IF((TARGET_1['AMT_INCOME_TOTAL']>75000) & (TARGET_1['AMT_INCOME_TOTAL']<=100000 ),'75001 - 100000',\n",
    "                IF((TARGET_1['AMT_INCOME_TOTAL']>100000) & (TARGET_1['AMT_INCOME_TOTAL']<=250000 ),'100001 - 250000',\n",
    "                IF((TARGET_1['AMT_INCOME_TOTAL']>250000) & (TARGET_1['AMT_INCOME_TOTAL']<=500000 ),'250001 - 500000',\n",
    "                IF((TARGET_1['AMT_INCOME_TOTAL']>500000) & (TARGET_1['AMT_INCOME_TOTAL']<=1000000 ),'500001 - 1000000',\n",
    "                IF((TARGET_1['AMT_INCOME_TOTAL']>500000) & (TARGET_1['AMT_INCOME_TOTAL']<=1000000 ),'500001 - 1000000',\n",
    "                IF((TARGET_1['AMT_INCOME_TOTAL']>1000000),'Above 1000000','')))))))))"
   ]
  },
  {
   "cell_type": "code",
   "execution_count": null,
   "metadata": {},
   "outputs": [],
   "source": [
    "segmenteddata_TARGET_0=TARGET_0.groupby(['income_range']).count().reset_index()\n",
    "fig,ax=plt.subplots(figsize=(18,6))\n",
    "sns.set_style(\"whitegrid\")\n",
    "sns.barplot(data=segmenteddata_TARGET_0,x='income_range',y='AMT_INCOME_TOTAL',ax=ax)\n",
    "plt.ylabel('Income Amount')\n",
    "plt.xlabel('Income Range')\n",
    "plt.title('Segmented Univariate Analysis - all other cases')\n",
    "plt.ylim(0,200000)\n",
    "plt.show()"
   ]
  },
  {
   "cell_type": "code",
   "execution_count": null,
   "metadata": {},
   "outputs": [],
   "source": [
    "segmenteddata_TARGET_1=TARGET_1.groupby(['income_range']).count().reset_index()\n",
    "fig,ax=plt.subplots(figsize=(18,6))\n",
    "sns.set_style(\"whitegrid\")\n",
    "sns.barplot(data=segmenteddata_TARGET_1,x='income_range',y='AMT_INCOME_TOTAL',ax=ax)\n",
    "plt.ylabel('Income Amount')\n",
    "plt.xlabel('Income Range')\n",
    "plt.title('Segmented Univariate Analysis - Client with payment difficulties')\n",
    "plt.ylim(0,200000)\n",
    "plt.show()"
   ]
  },
  {
   "cell_type": "markdown",
   "metadata": {},
   "source": [
    "## Correlation "
   ]
  },
  {
   "cell_type": "code",
   "execution_count": null,
   "metadata": {},
   "outputs": [],
   "source": [
    "fig,ax=plt.subplots(1,1,figsize=(15,8))\n",
    "num_target_0=TARGET_0.select_dtypes(['float64'])\n",
    "sns.heatmap(data=num_target_0.corr(),ax=ax)\n",
    "plt.title('Correlation - all other cases')\n",
    "plt.show()"
   ]
  },
  {
   "cell_type": "markdown",
   "metadata": {},
   "source": [
    "<b>\n",
    "From the above heatmap for tagert_0 data we can see high correlation among columns : \n",
    " <br> 1. 'DAYS_REGISTRATION' - 'REGION_POPULATION_RELATIVE'\n",
    " <br> 2. 'DAYS_REGISTRATION' - 'EXT_SOURCE_3'\n",
    " <br> 3. 'EXT_SOURCE_2' - 'DAYS_LAST_PHONE_CHANGE'\n",
    " <br> 4. 'AMT_REQ_CREDIT_BUREAU_YEAR' - 'DAYS_LAST_PHONE_CHANGE'\n",
    " <br> 5. 'EXT_SOURCE_3' - 'AMT_INCOME_TOTAL'\n",
    "</b>"
   ]
  },
  {
   "cell_type": "code",
   "execution_count": null,
   "metadata": {},
   "outputs": [],
   "source": [
    "fig,ax=plt.subplots(1,1,figsize=(15,8))\n",
    "num_target_1=TARGET_1.select_dtypes(['float64'])\n",
    "sns.heatmap(data=num_target_1.corr(),ax=ax)\n",
    "plt.title('Correlation - Client with payment difficulties')\n",
    "plt.show()"
   ]
  },
  {
   "cell_type": "code",
   "execution_count": null,
   "metadata": {},
   "outputs": [],
   "source": []
  },
  {
   "cell_type": "markdown",
   "metadata": {},
   "source": [
    "<b>\n",
    "From the above heatmap for tagert_1 data we can see high correlation among columns : \n",
    " <br> 1. 'DAYS_REGISTRATION' - 'REGION_POPULATION_RELATIVE'\n",
    " <br> 2. 'DAYS_REGISTRATION' - 'EXT_SOURCE_3'\n",
    " <br> 3. 'EXT_SOURCE_2' - 'DAYS_LAST_PHONE_CHANGE'\n",
    " <br> 4. 'AMT_REQ_CREDIT_BUREAU_YEAR' - 'DAYS_LAST_PHONE_CHANGE'\n",
    " <br> 5. 'EXT_SOURCE_3' - 'AMT_INCOME_TOTAL'\n",
    "</b>"
   ]
  },
  {
   "cell_type": "code",
   "execution_count": null,
   "metadata": {},
   "outputs": [],
   "source": [
    "# Merging datasets Application Data and Previous Data.\n",
    "merged_data = pd.merge(prevdata, clean_data, left_index=True, right_index=True, how='inner')"
   ]
  },
  {
   "cell_type": "code",
   "execution_count": null,
   "metadata": {
    "scrolled": true
   },
   "outputs": [],
   "source": [
    "# Missing values percentage in Merged data.\n",
    "(merged_data.isnull().sum()/merged_data.shape[0])*100"
   ]
  },
  {
   "cell_type": "code",
   "execution_count": null,
   "metadata": {},
   "outputs": [],
   "source": [
    "# Removing data of columns which have more than 30% of missing data\n",
    "cols = merged_data.columns[merged_data.isnull().mean() > 0.30]\n",
    "merged_data = merged_data.drop(columns = cols)"
   ]
  },
  {
   "cell_type": "code",
   "execution_count": null,
   "metadata": {},
   "outputs": [],
   "source": [
    "# Imputing the mean values in columns(Continuous) having null values\n",
    "merged_data.AMT_ANNUITY_x = merged_data.AMT_ANNUITY_x.fillna(merged_data.AMT_ANNUITY_x.mean()) \n",
    "merged_data.AMT_GOODS_PRICE_x = merged_data.AMT_GOODS_PRICE_x.fillna(merged_data.AMT_GOODS_PRICE_x.mean()) \n",
    "merged_data.CNT_PAYMENT = merged_data.CNT_PAYMENT.fillna(merged_data.CNT_PAYMENT.mean()) \n",
    "merged_data.EXT_SOURCE_3 = merged_data.EXT_SOURCE_3.fillna(merged_data.EXT_SOURCE_3.mean()) \n",
    "merged_data.info()"
   ]
  },
  {
   "cell_type": "code",
   "execution_count": null,
   "metadata": {},
   "outputs": [],
   "source": [
    "# Finding percentage of missing values in merged data.\n",
    "(merged_data.isnull().sum()/merged_data.shape[0])*100"
   ]
  },
  {
   "cell_type": "code",
   "execution_count": null,
   "metadata": {},
   "outputs": [],
   "source": [
    "# Bifurcating the merged data into two different dataframes Target_0_Col and Target_1_Col\n",
    "TARGET_0_Col = merged_data.loc[(merged_data.TARGET==0)]\n",
    "TARGET_1_Col = merged_data.loc[(merged_data.TARGET==1)]\n",
    "list(TARGET_0_Col.columns)"
   ]
  },
  {
   "cell_type": "markdown",
   "metadata": {},
   "source": [
    "### UNIVARIATE ANALYSIS"
   ]
  },
  {
   "cell_type": "code",
   "execution_count": null,
   "metadata": {},
   "outputs": [],
   "source": [
    "fig,ax = plt.subplots(figsize = (10,4))\n",
    "TARGET_0_Col.CODE_GENDER.value_counts().plot(kind = 'bar',color = ['red','green'])\n",
    "plt.xlabel('Gender')\n",
    "plt.title('Univariate Analysis - all other cases')\n",
    "plt.show()"
   ]
  },
  {
   "cell_type": "code",
   "execution_count": null,
   "metadata": {},
   "outputs": [],
   "source": [
    "fig,ax = plt.subplots(figsize = (10,4))\n",
    "TARGET_1_Col.CODE_GENDER.value_counts().plot(kind = 'bar',color = ['red','green'])\n",
    "plt.xlabel('Gender')\n",
    "plt.title('Univariate Analysis - Client with payment difficulties')\n",
    "plt.show()"
   ]
  },
  {
   "cell_type": "markdown",
   "metadata": {},
   "source": [
    "### BIVARIATE ANALYSIS"
   ]
  },
  {
   "cell_type": "code",
   "execution_count": null,
   "metadata": {},
   "outputs": [],
   "source": [
    "fig,ax=plt.subplots(1,1,figsize=(15,4))\n",
    "sns.barplot(data=TARGET_0_Col,x='ORGANIZATION_TYPE',y='AMT_INCOME_TOTAL',ax=ax)\n",
    "plt.xticks(rotation='vertical')\n",
    "plt.ylabel('Income Amount')\n",
    "plt.xlabel('Organization Type')\n",
    "plt.title('Bivariate Analysis - all other cases')\n",
    "plt.show()"
   ]
  },
  {
   "cell_type": "code",
   "execution_count": null,
   "metadata": {},
   "outputs": [],
   "source": [
    "fig,ax=plt.subplots(1,1,figsize=(15,4))\n",
    "sns.barplot(data=TARGET_1_Col,x='ORGANIZATION_TYPE',y='AMT_INCOME_TOTAL',ax=ax)\n",
    "plt.xticks(rotation='vertical')\n",
    "plt.ylabel('Income Amount')\n",
    "plt.xlabel('Organization Type')\n",
    "plt.title('Bivariate Analysis - Client with payment difficulties')\n",
    "plt.show()"
   ]
  },
  {
   "cell_type": "code",
   "execution_count": null,
   "metadata": {},
   "outputs": [],
   "source": [
    "fig,ax=plt.subplots(1,1,figsize=(15,4))\n",
    "sns.barplot(data=TARGET_0_Col,x='NAME_FAMILY_STATUS',y='AMT_INCOME_TOTAL',ax=ax)\n",
    "plt.xticks(rotation='vertical')\n",
    "plt.xlabel('Family Status')\n",
    "plt.ylabel('Income Amount')\n",
    "plt.title('Bivariate Analysis - all other cases')\n",
    "plt.show()"
   ]
  },
  {
   "cell_type": "code",
   "execution_count": null,
   "metadata": {},
   "outputs": [],
   "source": [
    "fig,ax=plt.subplots(1,1,figsize=(15,4))\n",
    "sns.barplot(data=TARGET_0_Col,x='NAME_FAMILY_STATUS',y='AMT_INCOME_TOTAL',ax=ax)\n",
    "plt.xticks(rotation='vertical')\n",
    "plt.xlabel('Family Status')\n",
    "plt.ylabel('Income Amount')\n",
    "plt.title('Bivariate Analysis - Client with payment difficulties')\n",
    "plt.show()"
   ]
  },
  {
   "cell_type": "code",
   "execution_count": null,
   "metadata": {},
   "outputs": [],
   "source": [
    "segmenteddata_TARGET_0_Col=TARGET_0_Col.groupby(['income_range']).count().reset_index()\n",
    "fig,ax=plt.subplots(figsize=(18,6))\n",
    "sns.set_style(\"whitegrid\")\n",
    "sns.barplot(data=segmenteddata_TARGET_0_Col,x='income_range',y='AMT_INCOME_TOTAL',ax=ax)\n",
    "plt.ylabel('Income Amount')\n",
    "plt.xlabel('Income Range')\n",
    "plt.title('Segmented Univariate Analysis - all other cases')\n",
    "plt.ylim(0,200000)\n",
    "plt.show()"
   ]
  },
  {
   "cell_type": "code",
   "execution_count": null,
   "metadata": {},
   "outputs": [],
   "source": [
    "segmenteddata_TARGET_1_Col=TARGET_1_Col.groupby(['income_range']).count().reset_index()\n",
    "fig,ax=plt.subplots(figsize=(18,6))\n",
    "sns.set_style(\"whitegrid\")\n",
    "sns.barplot(data=segmenteddata_TARGET_1_Col,x='income_range',y='AMT_INCOME_TOTAL',ax=ax)\n",
    "plt.ylabel('Income Amount')\n",
    "plt.xlabel('Income Range')\n",
    "plt.title('Segmented Univariate Analysis - Client with payment difficulties')\n",
    "plt.ylim(0,200000)\n",
    "plt.show()"
   ]
  },
  {
   "cell_type": "code",
   "execution_count": null,
   "metadata": {},
   "outputs": [],
   "source": []
  }
 ],
 "metadata": {
  "kernelspec": {
   "display_name": "Python 3",
   "language": "python",
   "name": "python3"
  },
  "language_info": {
   "codemirror_mode": {
    "name": "ipython",
    "version": 3
   },
   "file_extension": ".py",
   "mimetype": "text/x-python",
   "name": "python",
   "nbconvert_exporter": "python",
   "pygments_lexer": "ipython3",
   "version": "3.7.3"
  }
 },
 "nbformat": 4,
 "nbformat_minor": 2
}
