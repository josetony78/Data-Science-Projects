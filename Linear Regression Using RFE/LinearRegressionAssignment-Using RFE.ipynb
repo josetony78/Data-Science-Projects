{
 "cells": [
  {
   "cell_type": "markdown",
   "metadata": {},
   "source": [
    "# <b> Multiple Linear Regression using RFE Approach"
   ]
  },
  {
   "cell_type": "code",
   "execution_count": 64,
   "metadata": {},
   "outputs": [],
   "source": [
    "import pandas as pd\n",
    "import seaborn as sns\n",
    "import numpy as np\n",
    "from matplotlib import pyplot as plt\n",
    "\n",
    "import sklearn\n",
    "from sklearn.model_selection import train_test_split\n",
    "from sklearn.preprocessing import MinMaxScaler\n",
    "\n",
    "import warnings\n",
    "warnings.filterwarnings('ignore')\n",
    "pd.set_option('display.max_rows', 500)\n",
    "pd.set_option('display.max_columns', 500)\n",
    "pd.set_option('display.width', 1000)"
   ]
  },
  {
   "cell_type": "code",
   "execution_count": 65,
   "metadata": {},
   "outputs": [],
   "source": [
    "# Importing the DataSet into Python environment\n",
    "rfe_df=pd.read_csv('CarPrice_Assignment.csv')"
   ]
  },
  {
   "cell_type": "code",
   "execution_count": 66,
   "metadata": {},
   "outputs": [
    {
     "data": {
      "text/html": [
       "<div>\n",
       "<style scoped>\n",
       "    .dataframe tbody tr th:only-of-type {\n",
       "        vertical-align: middle;\n",
       "    }\n",
       "\n",
       "    .dataframe tbody tr th {\n",
       "        vertical-align: top;\n",
       "    }\n",
       "\n",
       "    .dataframe thead th {\n",
       "        text-align: right;\n",
       "    }\n",
       "</style>\n",
       "<table border=\"1\" class=\"dataframe\">\n",
       "  <thead>\n",
       "    <tr style=\"text-align: right;\">\n",
       "      <th></th>\n",
       "      <th>car_ID</th>\n",
       "      <th>symboling</th>\n",
       "      <th>wheelbase</th>\n",
       "      <th>carlength</th>\n",
       "      <th>carwidth</th>\n",
       "      <th>carheight</th>\n",
       "      <th>curbweight</th>\n",
       "      <th>enginesize</th>\n",
       "      <th>boreratio</th>\n",
       "      <th>stroke</th>\n",
       "      <th>compressionratio</th>\n",
       "      <th>horsepower</th>\n",
       "      <th>peakrpm</th>\n",
       "      <th>citympg</th>\n",
       "      <th>highwaympg</th>\n",
       "      <th>price</th>\n",
       "    </tr>\n",
       "  </thead>\n",
       "  <tbody>\n",
       "    <tr>\n",
       "      <th>count</th>\n",
       "      <td>205.000000</td>\n",
       "      <td>205.000000</td>\n",
       "      <td>205.000000</td>\n",
       "      <td>205.000000</td>\n",
       "      <td>205.000000</td>\n",
       "      <td>205.000000</td>\n",
       "      <td>205.000000</td>\n",
       "      <td>205.000000</td>\n",
       "      <td>205.000000</td>\n",
       "      <td>205.000000</td>\n",
       "      <td>205.000000</td>\n",
       "      <td>205.000000</td>\n",
       "      <td>205.000000</td>\n",
       "      <td>205.000000</td>\n",
       "      <td>205.000000</td>\n",
       "      <td>205.000000</td>\n",
       "    </tr>\n",
       "    <tr>\n",
       "      <th>mean</th>\n",
       "      <td>103.000000</td>\n",
       "      <td>0.834146</td>\n",
       "      <td>98.756585</td>\n",
       "      <td>174.049268</td>\n",
       "      <td>65.907805</td>\n",
       "      <td>53.724878</td>\n",
       "      <td>2555.565854</td>\n",
       "      <td>126.907317</td>\n",
       "      <td>3.329756</td>\n",
       "      <td>3.255415</td>\n",
       "      <td>10.142537</td>\n",
       "      <td>104.117073</td>\n",
       "      <td>5125.121951</td>\n",
       "      <td>25.219512</td>\n",
       "      <td>30.751220</td>\n",
       "      <td>13276.710571</td>\n",
       "    </tr>\n",
       "    <tr>\n",
       "      <th>std</th>\n",
       "      <td>59.322565</td>\n",
       "      <td>1.245307</td>\n",
       "      <td>6.021776</td>\n",
       "      <td>12.337289</td>\n",
       "      <td>2.145204</td>\n",
       "      <td>2.443522</td>\n",
       "      <td>520.680204</td>\n",
       "      <td>41.642693</td>\n",
       "      <td>0.270844</td>\n",
       "      <td>0.313597</td>\n",
       "      <td>3.972040</td>\n",
       "      <td>39.544167</td>\n",
       "      <td>476.985643</td>\n",
       "      <td>6.542142</td>\n",
       "      <td>6.886443</td>\n",
       "      <td>7988.852332</td>\n",
       "    </tr>\n",
       "    <tr>\n",
       "      <th>min</th>\n",
       "      <td>1.000000</td>\n",
       "      <td>-2.000000</td>\n",
       "      <td>86.600000</td>\n",
       "      <td>141.100000</td>\n",
       "      <td>60.300000</td>\n",
       "      <td>47.800000</td>\n",
       "      <td>1488.000000</td>\n",
       "      <td>61.000000</td>\n",
       "      <td>2.540000</td>\n",
       "      <td>2.070000</td>\n",
       "      <td>7.000000</td>\n",
       "      <td>48.000000</td>\n",
       "      <td>4150.000000</td>\n",
       "      <td>13.000000</td>\n",
       "      <td>16.000000</td>\n",
       "      <td>5118.000000</td>\n",
       "    </tr>\n",
       "    <tr>\n",
       "      <th>25%</th>\n",
       "      <td>52.000000</td>\n",
       "      <td>0.000000</td>\n",
       "      <td>94.500000</td>\n",
       "      <td>166.300000</td>\n",
       "      <td>64.100000</td>\n",
       "      <td>52.000000</td>\n",
       "      <td>2145.000000</td>\n",
       "      <td>97.000000</td>\n",
       "      <td>3.150000</td>\n",
       "      <td>3.110000</td>\n",
       "      <td>8.600000</td>\n",
       "      <td>70.000000</td>\n",
       "      <td>4800.000000</td>\n",
       "      <td>19.000000</td>\n",
       "      <td>25.000000</td>\n",
       "      <td>7788.000000</td>\n",
       "    </tr>\n",
       "    <tr>\n",
       "      <th>50%</th>\n",
       "      <td>103.000000</td>\n",
       "      <td>1.000000</td>\n",
       "      <td>97.000000</td>\n",
       "      <td>173.200000</td>\n",
       "      <td>65.500000</td>\n",
       "      <td>54.100000</td>\n",
       "      <td>2414.000000</td>\n",
       "      <td>120.000000</td>\n",
       "      <td>3.310000</td>\n",
       "      <td>3.290000</td>\n",
       "      <td>9.000000</td>\n",
       "      <td>95.000000</td>\n",
       "      <td>5200.000000</td>\n",
       "      <td>24.000000</td>\n",
       "      <td>30.000000</td>\n",
       "      <td>10295.000000</td>\n",
       "    </tr>\n",
       "    <tr>\n",
       "      <th>75%</th>\n",
       "      <td>154.000000</td>\n",
       "      <td>2.000000</td>\n",
       "      <td>102.400000</td>\n",
       "      <td>183.100000</td>\n",
       "      <td>66.900000</td>\n",
       "      <td>55.500000</td>\n",
       "      <td>2935.000000</td>\n",
       "      <td>141.000000</td>\n",
       "      <td>3.580000</td>\n",
       "      <td>3.410000</td>\n",
       "      <td>9.400000</td>\n",
       "      <td>116.000000</td>\n",
       "      <td>5500.000000</td>\n",
       "      <td>30.000000</td>\n",
       "      <td>34.000000</td>\n",
       "      <td>16503.000000</td>\n",
       "    </tr>\n",
       "    <tr>\n",
       "      <th>max</th>\n",
       "      <td>205.000000</td>\n",
       "      <td>3.000000</td>\n",
       "      <td>120.900000</td>\n",
       "      <td>208.100000</td>\n",
       "      <td>72.300000</td>\n",
       "      <td>59.800000</td>\n",
       "      <td>4066.000000</td>\n",
       "      <td>326.000000</td>\n",
       "      <td>3.940000</td>\n",
       "      <td>4.170000</td>\n",
       "      <td>23.000000</td>\n",
       "      <td>288.000000</td>\n",
       "      <td>6600.000000</td>\n",
       "      <td>49.000000</td>\n",
       "      <td>54.000000</td>\n",
       "      <td>45400.000000</td>\n",
       "    </tr>\n",
       "  </tbody>\n",
       "</table>\n",
       "</div>"
      ],
      "text/plain": [
       "           car_ID   symboling   wheelbase   carlength    carwidth   carheight   curbweight  enginesize   boreratio      stroke  compressionratio  horsepower      peakrpm     citympg  highwaympg         price\n",
       "count  205.000000  205.000000  205.000000  205.000000  205.000000  205.000000   205.000000  205.000000  205.000000  205.000000        205.000000  205.000000   205.000000  205.000000  205.000000    205.000000\n",
       "mean   103.000000    0.834146   98.756585  174.049268   65.907805   53.724878  2555.565854  126.907317    3.329756    3.255415         10.142537  104.117073  5125.121951   25.219512   30.751220  13276.710571\n",
       "std     59.322565    1.245307    6.021776   12.337289    2.145204    2.443522   520.680204   41.642693    0.270844    0.313597          3.972040   39.544167   476.985643    6.542142    6.886443   7988.852332\n",
       "min      1.000000   -2.000000   86.600000  141.100000   60.300000   47.800000  1488.000000   61.000000    2.540000    2.070000          7.000000   48.000000  4150.000000   13.000000   16.000000   5118.000000\n",
       "25%     52.000000    0.000000   94.500000  166.300000   64.100000   52.000000  2145.000000   97.000000    3.150000    3.110000          8.600000   70.000000  4800.000000   19.000000   25.000000   7788.000000\n",
       "50%    103.000000    1.000000   97.000000  173.200000   65.500000   54.100000  2414.000000  120.000000    3.310000    3.290000          9.000000   95.000000  5200.000000   24.000000   30.000000  10295.000000\n",
       "75%    154.000000    2.000000  102.400000  183.100000   66.900000   55.500000  2935.000000  141.000000    3.580000    3.410000          9.400000  116.000000  5500.000000   30.000000   34.000000  16503.000000\n",
       "max    205.000000    3.000000  120.900000  208.100000   72.300000   59.800000  4066.000000  326.000000    3.940000    4.170000         23.000000  288.000000  6600.000000   49.000000   54.000000  45400.000000"
      ]
     },
     "execution_count": 66,
     "metadata": {},
     "output_type": "execute_result"
    }
   ],
   "source": [
    "# Checking the numerical information about the dataset like minimum value counts mean std etc.\n",
    "rfe_df.describe()"
   ]
  },
  {
   "cell_type": "code",
   "execution_count": 67,
   "metadata": {},
   "outputs": [
    {
     "name": "stdout",
     "output_type": "stream",
     "text": [
      "<class 'pandas.core.frame.DataFrame'>\n",
      "RangeIndex: 205 entries, 0 to 204\n",
      "Data columns (total 26 columns):\n",
      "car_ID              205 non-null int64\n",
      "symboling           205 non-null int64\n",
      "CarName             205 non-null object\n",
      "fueltype            205 non-null object\n",
      "aspiration          205 non-null object\n",
      "doornumber          205 non-null object\n",
      "carbody             205 non-null object\n",
      "drivewheel          205 non-null object\n",
      "enginelocation      205 non-null object\n",
      "wheelbase           205 non-null float64\n",
      "carlength           205 non-null float64\n",
      "carwidth            205 non-null float64\n",
      "carheight           205 non-null float64\n",
      "curbweight          205 non-null int64\n",
      "enginetype          205 non-null object\n",
      "cylindernumber      205 non-null object\n",
      "enginesize          205 non-null int64\n",
      "fuelsystem          205 non-null object\n",
      "boreratio           205 non-null float64\n",
      "stroke              205 non-null float64\n",
      "compressionratio    205 non-null float64\n",
      "horsepower          205 non-null int64\n",
      "peakrpm             205 non-null int64\n",
      "citympg             205 non-null int64\n",
      "highwaympg          205 non-null int64\n",
      "price               205 non-null float64\n",
      "dtypes: float64(8), int64(8), object(10)\n",
      "memory usage: 41.8+ KB\n"
     ]
    }
   ],
   "source": [
    "# Basic information about the columns in the dataframe like number of non null entries and \n",
    "# no. of rows and columns and its respective datatypes\n",
    "rfe_df.info()"
   ]
  },
  {
   "cell_type": "code",
   "execution_count": 68,
   "metadata": {},
   "outputs": [
    {
     "data": {
      "text/plain": [
       "(205, 26)"
      ]
     },
     "execution_count": 68,
     "metadata": {},
     "output_type": "execute_result"
    }
   ],
   "source": [
    "# Number of rows and columns in the dataset before cleaning.\n",
    "rfe_df.shape"
   ]
  },
  {
   "cell_type": "code",
   "execution_count": 69,
   "metadata": {},
   "outputs": [
    {
     "data": {
      "text/plain": [
       "Index(['car_ID', 'symboling', 'CarName', 'fueltype', 'aspiration', 'doornumber', 'carbody', 'drivewheel', 'enginelocation', 'wheelbase', 'carlength', 'carwidth', 'carheight', 'curbweight', 'enginetype', 'cylindernumber', 'enginesize', 'fuelsystem', 'boreratio', 'stroke', 'compressionratio', 'horsepower', 'peakrpm', 'citympg', 'highwaympg', 'price'], dtype='object')"
      ]
     },
     "execution_count": 69,
     "metadata": {},
     "output_type": "execute_result"
    }
   ],
   "source": [
    "# Name of columns in the dataset\n",
    "rfe_df.columns"
   ]
  },
  {
   "cell_type": "code",
   "execution_count": 70,
   "metadata": {},
   "outputs": [
    {
     "data": {
      "text/plain": [
       "car_ID                int64\n",
       "symboling             int64\n",
       "CarName              object\n",
       "fueltype             object\n",
       "aspiration           object\n",
       "doornumber           object\n",
       "carbody              object\n",
       "drivewheel           object\n",
       "enginelocation       object\n",
       "wheelbase           float64\n",
       "carlength           float64\n",
       "carwidth            float64\n",
       "carheight           float64\n",
       "curbweight            int64\n",
       "enginetype           object\n",
       "cylindernumber       object\n",
       "enginesize            int64\n",
       "fuelsystem           object\n",
       "boreratio           float64\n",
       "stroke              float64\n",
       "compressionratio    float64\n",
       "horsepower            int64\n",
       "peakrpm               int64\n",
       "citympg               int64\n",
       "highwaympg            int64\n",
       "price               float64\n",
       "dtype: object"
      ]
     },
     "execution_count": 70,
     "metadata": {},
     "output_type": "execute_result"
    }
   ],
   "source": [
    "# Column datatype in the dataset\n",
    "rfe_df.dtypes"
   ]
  },
  {
   "cell_type": "code",
   "execution_count": 71,
   "metadata": {},
   "outputs": [
    {
     "data": {
      "text/plain": [
       "car_ID              0\n",
       "symboling           0\n",
       "CarName             0\n",
       "fueltype            0\n",
       "aspiration          0\n",
       "doornumber          0\n",
       "carbody             0\n",
       "drivewheel          0\n",
       "enginelocation      0\n",
       "wheelbase           0\n",
       "carlength           0\n",
       "carwidth            0\n",
       "carheight           0\n",
       "curbweight          0\n",
       "enginetype          0\n",
       "cylindernumber      0\n",
       "enginesize          0\n",
       "fuelsystem          0\n",
       "boreratio           0\n",
       "stroke              0\n",
       "compressionratio    0\n",
       "horsepower          0\n",
       "peakrpm             0\n",
       "citympg             0\n",
       "highwaympg          0\n",
       "price               0\n",
       "dtype: int64"
      ]
     },
     "execution_count": 71,
     "metadata": {},
     "output_type": "execute_result"
    }
   ],
   "source": [
    "# No. of columns with null values\n",
    "rfe_df.isnull().sum()"
   ]
  },
  {
   "cell_type": "code",
   "execution_count": 72,
   "metadata": {},
   "outputs": [],
   "source": [
    "# Swapping price column position. Brought 'Price to the first position and moved the 'car_ID' column to the last position.'\n",
    "rfe_df=rfe_df[['price', 'symboling', 'CarName', 'fueltype', 'aspiration', 'doornumber', 'carbody', 'drivewheel', 'enginelocation', 'wheelbase', 'carlength', 'carwidth', 'carheight', 'curbweight', 'enginetype', 'cylindernumber', 'enginesize', 'fuelsystem', 'boreratio', 'stroke', 'compressionratio', 'horsepower', 'peakrpm', 'citympg', 'highwaympg','car_ID']]\n",
    "rfe_df[['companyname','modelname']] = rfe_df.CarName.str.split(' ',1,expand=True)"
   ]
  },
  {
   "cell_type": "code",
   "execution_count": 73,
   "metadata": {},
   "outputs": [
    {
     "data": {
      "text/plain": [
       "array(['alfa-romero', 'audi', 'bmw', 'chevrolet', 'dodge', 'honda',\n",
       "       'isuzu', 'jaguar', 'maxda', 'mazda', 'buick', 'mercury',\n",
       "       'mitsubishi', 'Nissan', 'nissan', 'peugeot', 'plymouth', 'porsche',\n",
       "       'porcshce', 'renault', 'saab', 'subaru', 'toyota', 'toyouta',\n",
       "       'vokswagen', 'volkswagen', 'vw', 'volvo'], dtype=object)"
      ]
     },
     "execution_count": 73,
     "metadata": {},
     "output_type": "execute_result"
    }
   ],
   "source": [
    "# Correcting column values with correct spelling in dataframe - Part of Data Cleansing\n",
    "pd.unique(rfe_df.companyname)"
   ]
  },
  {
   "cell_type": "code",
   "execution_count": 74,
   "metadata": {},
   "outputs": [],
   "source": [
    "# Replacing the wrong company name with correct name\n",
    "rfe_df.companyname=rfe_df.companyname.replace(to_replace =[\"vokswagen\",\"vw\"],value =\"volkswagen\")\n",
    "rfe_df.companyname=rfe_df.companyname.replace(to_replace =\"maxda\",value =\"mazda\")\n",
    "rfe_df.companyname=rfe_df.companyname.replace(to_replace =\"Nissan\",value =\"nissan\")\n",
    "rfe_df.companyname=rfe_df.companyname.replace(to_replace =\"toyouta\",value =\"toyota\")\n",
    "rfe_df.companyname=rfe_df.companyname.replace(to_replace =\"porcshce\",value =\"porsche\")"
   ]
  },
  {
   "cell_type": "code",
   "execution_count": 75,
   "metadata": {},
   "outputs": [
    {
     "data": {
      "image/png": "[encoded data removed]",
      "text/plain": [
       "<Figure size 1728x1728 with 9 Axes>"
      ]
     },
     "metadata": {
      "needs_background": "light"
     },
     "output_type": "display_data"
    }
   ],
   "source": [
    "# Observing the impact of the categorical variable on the car prices\n",
    "fig,ax=plt.subplots(ncols=3,nrows=3,figsize=(24,24))\n",
    "sns.boxplot(x='fueltype',y='price',data=rfe_df,ax=ax[0][0])\n",
    "sns.boxplot(x='aspiration',y='price',data=rfe_df,ax=ax[0][1])\n",
    "sns.boxplot(x='doornumber',y='price',data=rfe_df,ax=ax[0][2])\n",
    "sns.boxplot(x='carbody',y='price',data=rfe_df,ax=ax[1][0])\n",
    "sns.boxplot(x='drivewheel',y='price',data=rfe_df,ax=ax[1][1])\n",
    "sns.boxplot(x='enginelocation',y='price',data=rfe_df,ax=ax[1][2])\n",
    "sns.boxplot(x='enginetype',y='price',data=rfe_df,ax=ax[2][0])\n",
    "sns.boxplot(x='cylindernumber',y='price',data=rfe_df,ax=ax[2][1])\n",
    "sns.boxplot(x='fuelsystem',y='price',data=rfe_df,ax=ax[2][2])\n",
    "plt.show()"
   ]
  },
  {
   "cell_type": "code",
   "execution_count": 76,
   "metadata": {},
   "outputs": [
    {
     "data": {
      "text/html": [
       "<div>\n",
       "<style scoped>\n",
       "    .dataframe tbody tr th:only-of-type {\n",
       "        vertical-align: middle;\n",
       "    }\n",
       "\n",
       "    .dataframe tbody tr th {\n",
       "        vertical-align: top;\n",
       "    }\n",
       "\n",
       "    .dataframe thead th {\n",
       "        text-align: right;\n",
       "    }\n",
       "</style>\n",
       "<table border=\"1\" class=\"dataframe\">\n",
       "  <thead>\n",
       "    <tr style=\"text-align: right;\">\n",
       "      <th></th>\n",
       "      <th>price</th>\n",
       "      <th>symboling</th>\n",
       "      <th>wheelbase</th>\n",
       "      <th>carlength</th>\n",
       "      <th>carwidth</th>\n",
       "      <th>carheight</th>\n",
       "      <th>curbweight</th>\n",
       "      <th>enginesize</th>\n",
       "      <th>boreratio</th>\n",
       "      <th>stroke</th>\n",
       "      <th>compressionratio</th>\n",
       "      <th>horsepower</th>\n",
       "      <th>peakrpm</th>\n",
       "      <th>citympg</th>\n",
       "      <th>highwaympg</th>\n",
       "      <th>car_ID</th>\n",
       "    </tr>\n",
       "  </thead>\n",
       "  <tbody>\n",
       "    <tr>\n",
       "      <th>price</th>\n",
       "      <td>1.00</td>\n",
       "      <td>-0.08</td>\n",
       "      <td>0.58</td>\n",
       "      <td>0.68</td>\n",
       "      <td>0.76</td>\n",
       "      <td>0.12</td>\n",
       "      <td>0.84</td>\n",
       "      <td>0.87</td>\n",
       "      <td>0.55</td>\n",
       "      <td>0.08</td>\n",
       "      <td>0.07</td>\n",
       "      <td>0.81</td>\n",
       "      <td>-0.09</td>\n",
       "      <td>-0.69</td>\n",
       "      <td>-0.70</td>\n",
       "      <td>-0.11</td>\n",
       "    </tr>\n",
       "    <tr>\n",
       "      <th>symboling</th>\n",
       "      <td>-0.08</td>\n",
       "      <td>1.00</td>\n",
       "      <td>-0.53</td>\n",
       "      <td>-0.36</td>\n",
       "      <td>-0.23</td>\n",
       "      <td>-0.54</td>\n",
       "      <td>-0.23</td>\n",
       "      <td>-0.11</td>\n",
       "      <td>-0.13</td>\n",
       "      <td>-0.01</td>\n",
       "      <td>-0.18</td>\n",
       "      <td>0.07</td>\n",
       "      <td>0.27</td>\n",
       "      <td>-0.04</td>\n",
       "      <td>0.03</td>\n",
       "      <td>-0.15</td>\n",
       "    </tr>\n",
       "    <tr>\n",
       "      <th>wheelbase</th>\n",
       "      <td>0.58</td>\n",
       "      <td>-0.53</td>\n",
       "      <td>1.00</td>\n",
       "      <td>0.87</td>\n",
       "      <td>0.80</td>\n",
       "      <td>0.59</td>\n",
       "      <td>0.78</td>\n",
       "      <td>0.57</td>\n",
       "      <td>0.49</td>\n",
       "      <td>0.16</td>\n",
       "      <td>0.25</td>\n",
       "      <td>0.35</td>\n",
       "      <td>-0.36</td>\n",
       "      <td>-0.47</td>\n",
       "      <td>-0.54</td>\n",
       "      <td>0.13</td>\n",
       "    </tr>\n",
       "    <tr>\n",
       "      <th>carlength</th>\n",
       "      <td>0.68</td>\n",
       "      <td>-0.36</td>\n",
       "      <td>0.87</td>\n",
       "      <td>1.00</td>\n",
       "      <td>0.84</td>\n",
       "      <td>0.49</td>\n",
       "      <td>0.88</td>\n",
       "      <td>0.68</td>\n",
       "      <td>0.61</td>\n",
       "      <td>0.13</td>\n",
       "      <td>0.16</td>\n",
       "      <td>0.55</td>\n",
       "      <td>-0.29</td>\n",
       "      <td>-0.67</td>\n",
       "      <td>-0.70</td>\n",
       "      <td>0.17</td>\n",
       "    </tr>\n",
       "    <tr>\n",
       "      <th>carwidth</th>\n",
       "      <td>0.76</td>\n",
       "      <td>-0.23</td>\n",
       "      <td>0.80</td>\n",
       "      <td>0.84</td>\n",
       "      <td>1.00</td>\n",
       "      <td>0.28</td>\n",
       "      <td>0.87</td>\n",
       "      <td>0.74</td>\n",
       "      <td>0.56</td>\n",
       "      <td>0.18</td>\n",
       "      <td>0.18</td>\n",
       "      <td>0.64</td>\n",
       "      <td>-0.22</td>\n",
       "      <td>-0.64</td>\n",
       "      <td>-0.68</td>\n",
       "      <td>0.05</td>\n",
       "    </tr>\n",
       "    <tr>\n",
       "      <th>carheight</th>\n",
       "      <td>0.12</td>\n",
       "      <td>-0.54</td>\n",
       "      <td>0.59</td>\n",
       "      <td>0.49</td>\n",
       "      <td>0.28</td>\n",
       "      <td>1.00</td>\n",
       "      <td>0.30</td>\n",
       "      <td>0.07</td>\n",
       "      <td>0.17</td>\n",
       "      <td>-0.06</td>\n",
       "      <td>0.26</td>\n",
       "      <td>-0.11</td>\n",
       "      <td>-0.32</td>\n",
       "      <td>-0.05</td>\n",
       "      <td>-0.11</td>\n",
       "      <td>0.26</td>\n",
       "    </tr>\n",
       "    <tr>\n",
       "      <th>curbweight</th>\n",
       "      <td>0.84</td>\n",
       "      <td>-0.23</td>\n",
       "      <td>0.78</td>\n",
       "      <td>0.88</td>\n",
       "      <td>0.87</td>\n",
       "      <td>0.30</td>\n",
       "      <td>1.00</td>\n",
       "      <td>0.85</td>\n",
       "      <td>0.65</td>\n",
       "      <td>0.17</td>\n",
       "      <td>0.15</td>\n",
       "      <td>0.75</td>\n",
       "      <td>-0.27</td>\n",
       "      <td>-0.76</td>\n",
       "      <td>-0.80</td>\n",
       "      <td>0.07</td>\n",
       "    </tr>\n",
       "    <tr>\n",
       "      <th>enginesize</th>\n",
       "      <td>0.87</td>\n",
       "      <td>-0.11</td>\n",
       "      <td>0.57</td>\n",
       "      <td>0.68</td>\n",
       "      <td>0.74</td>\n",
       "      <td>0.07</td>\n",
       "      <td>0.85</td>\n",
       "      <td>1.00</td>\n",
       "      <td>0.58</td>\n",
       "      <td>0.20</td>\n",
       "      <td>0.03</td>\n",
       "      <td>0.81</td>\n",
       "      <td>-0.24</td>\n",
       "      <td>-0.65</td>\n",
       "      <td>-0.68</td>\n",
       "      <td>-0.03</td>\n",
       "    </tr>\n",
       "    <tr>\n",
       "      <th>boreratio</th>\n",
       "      <td>0.55</td>\n",
       "      <td>-0.13</td>\n",
       "      <td>0.49</td>\n",
       "      <td>0.61</td>\n",
       "      <td>0.56</td>\n",
       "      <td>0.17</td>\n",
       "      <td>0.65</td>\n",
       "      <td>0.58</td>\n",
       "      <td>1.00</td>\n",
       "      <td>-0.06</td>\n",
       "      <td>0.01</td>\n",
       "      <td>0.57</td>\n",
       "      <td>-0.25</td>\n",
       "      <td>-0.58</td>\n",
       "      <td>-0.59</td>\n",
       "      <td>0.26</td>\n",
       "    </tr>\n",
       "    <tr>\n",
       "      <th>stroke</th>\n",
       "      <td>0.08</td>\n",
       "      <td>-0.01</td>\n",
       "      <td>0.16</td>\n",
       "      <td>0.13</td>\n",
       "      <td>0.18</td>\n",
       "      <td>-0.06</td>\n",
       "      <td>0.17</td>\n",
       "      <td>0.20</td>\n",
       "      <td>-0.06</td>\n",
       "      <td>1.00</td>\n",
       "      <td>0.19</td>\n",
       "      <td>0.08</td>\n",
       "      <td>-0.07</td>\n",
       "      <td>-0.04</td>\n",
       "      <td>-0.04</td>\n",
       "      <td>-0.16</td>\n",
       "    </tr>\n",
       "    <tr>\n",
       "      <th>compressionratio</th>\n",
       "      <td>0.07</td>\n",
       "      <td>-0.18</td>\n",
       "      <td>0.25</td>\n",
       "      <td>0.16</td>\n",
       "      <td>0.18</td>\n",
       "      <td>0.26</td>\n",
       "      <td>0.15</td>\n",
       "      <td>0.03</td>\n",
       "      <td>0.01</td>\n",
       "      <td>0.19</td>\n",
       "      <td>1.00</td>\n",
       "      <td>-0.20</td>\n",
       "      <td>-0.44</td>\n",
       "      <td>0.32</td>\n",
       "      <td>0.27</td>\n",
       "      <td>0.15</td>\n",
       "    </tr>\n",
       "    <tr>\n",
       "      <th>horsepower</th>\n",
       "      <td>0.81</td>\n",
       "      <td>0.07</td>\n",
       "      <td>0.35</td>\n",
       "      <td>0.55</td>\n",
       "      <td>0.64</td>\n",
       "      <td>-0.11</td>\n",
       "      <td>0.75</td>\n",
       "      <td>0.81</td>\n",
       "      <td>0.57</td>\n",
       "      <td>0.08</td>\n",
       "      <td>-0.20</td>\n",
       "      <td>1.00</td>\n",
       "      <td>0.13</td>\n",
       "      <td>-0.80</td>\n",
       "      <td>-0.77</td>\n",
       "      <td>-0.02</td>\n",
       "    </tr>\n",
       "    <tr>\n",
       "      <th>peakrpm</th>\n",
       "      <td>-0.09</td>\n",
       "      <td>0.27</td>\n",
       "      <td>-0.36</td>\n",
       "      <td>-0.29</td>\n",
       "      <td>-0.22</td>\n",
       "      <td>-0.32</td>\n",
       "      <td>-0.27</td>\n",
       "      <td>-0.24</td>\n",
       "      <td>-0.25</td>\n",
       "      <td>-0.07</td>\n",
       "      <td>-0.44</td>\n",
       "      <td>0.13</td>\n",
       "      <td>1.00</td>\n",
       "      <td>-0.11</td>\n",
       "      <td>-0.05</td>\n",
       "      <td>-0.20</td>\n",
       "    </tr>\n",
       "    <tr>\n",
       "      <th>citympg</th>\n",
       "      <td>-0.69</td>\n",
       "      <td>-0.04</td>\n",
       "      <td>-0.47</td>\n",
       "      <td>-0.67</td>\n",
       "      <td>-0.64</td>\n",
       "      <td>-0.05</td>\n",
       "      <td>-0.76</td>\n",
       "      <td>-0.65</td>\n",
       "      <td>-0.58</td>\n",
       "      <td>-0.04</td>\n",
       "      <td>0.32</td>\n",
       "      <td>-0.80</td>\n",
       "      <td>-0.11</td>\n",
       "      <td>1.00</td>\n",
       "      <td>0.97</td>\n",
       "      <td>0.02</td>\n",
       "    </tr>\n",
       "    <tr>\n",
       "      <th>highwaympg</th>\n",
       "      <td>-0.70</td>\n",
       "      <td>0.03</td>\n",
       "      <td>-0.54</td>\n",
       "      <td>-0.70</td>\n",
       "      <td>-0.68</td>\n",
       "      <td>-0.11</td>\n",
       "      <td>-0.80</td>\n",
       "      <td>-0.68</td>\n",
       "      <td>-0.59</td>\n",
       "      <td>-0.04</td>\n",
       "      <td>0.27</td>\n",
       "      <td>-0.77</td>\n",
       "      <td>-0.05</td>\n",
       "      <td>0.97</td>\n",
       "      <td>1.00</td>\n",
       "      <td>0.01</td>\n",
       "    </tr>\n",
       "    <tr>\n",
       "      <th>car_ID</th>\n",
       "      <td>-0.11</td>\n",
       "      <td>-0.15</td>\n",
       "      <td>0.13</td>\n",
       "      <td>0.17</td>\n",
       "      <td>0.05</td>\n",
       "      <td>0.26</td>\n",
       "      <td>0.07</td>\n",
       "      <td>-0.03</td>\n",
       "      <td>0.26</td>\n",
       "      <td>-0.16</td>\n",
       "      <td>0.15</td>\n",
       "      <td>-0.02</td>\n",
       "      <td>-0.20</td>\n",
       "      <td>0.02</td>\n",
       "      <td>0.01</td>\n",
       "      <td>1.00</td>\n",
       "    </tr>\n",
       "  </tbody>\n",
       "</table>\n",
       "</div>"
      ],
      "text/plain": [
       "                  price  symboling  wheelbase  carlength  carwidth  carheight  curbweight  enginesize  boreratio  stroke  compressionratio  horsepower  peakrpm  citympg  highwaympg  car_ID\n",
       "price              1.00      -0.08       0.58       0.68      0.76       0.12        0.84        0.87       0.55    0.08              0.07        0.81    -0.09    -0.69       -0.70   -0.11\n",
       "symboling         -0.08       1.00      -0.53      -0.36     -0.23      -0.54       -0.23       -0.11      -0.13   -0.01             -0.18        0.07     0.27    -0.04        0.03   -0.15\n",
       "wheelbase          0.58      -0.53       1.00       0.87      0.80       0.59        0.78        0.57       0.49    0.16              0.25        0.35    -0.36    -0.47       -0.54    0.13\n",
       "carlength          0.68      -0.36       0.87       1.00      0.84       0.49        0.88        0.68       0.61    0.13              0.16        0.55    -0.29    -0.67       -0.70    0.17\n",
       "carwidth           0.76      -0.23       0.80       0.84      1.00       0.28        0.87        0.74       0.56    0.18              0.18        0.64    -0.22    -0.64       -0.68    0.05\n",
       "carheight          0.12      -0.54       0.59       0.49      0.28       1.00        0.30        0.07       0.17   -0.06              0.26       -0.11    -0.32    -0.05       -0.11    0.26\n",
       "curbweight         0.84      -0.23       0.78       0.88      0.87       0.30        1.00        0.85       0.65    0.17              0.15        0.75    -0.27    -0.76       -0.80    0.07\n",
       "enginesize         0.87      -0.11       0.57       0.68      0.74       0.07        0.85        1.00       0.58    0.20              0.03        0.81    -0.24    -0.65       -0.68   -0.03\n",
       "boreratio          0.55      -0.13       0.49       0.61      0.56       0.17        0.65        0.58       1.00   -0.06              0.01        0.57    -0.25    -0.58       -0.59    0.26\n",
       "stroke             0.08      -0.01       0.16       0.13      0.18      -0.06        0.17        0.20      -0.06    1.00              0.19        0.08    -0.07    -0.04       -0.04   -0.16\n",
       "compressionratio   0.07      -0.18       0.25       0.16      0.18       0.26        0.15        0.03       0.01    0.19              1.00       -0.20    -0.44     0.32        0.27    0.15\n",
       "horsepower         0.81       0.07       0.35       0.55      0.64      -0.11        0.75        0.81       0.57    0.08             -0.20        1.00     0.13    -0.80       -0.77   -0.02\n",
       "peakrpm           -0.09       0.27      -0.36      -0.29     -0.22      -0.32       -0.27       -0.24      -0.25   -0.07             -0.44        0.13     1.00    -0.11       -0.05   -0.20\n",
       "citympg           -0.69      -0.04      -0.47      -0.67     -0.64      -0.05       -0.76       -0.65      -0.58   -0.04              0.32       -0.80    -0.11     1.00        0.97    0.02\n",
       "highwaympg        -0.70       0.03      -0.54      -0.70     -0.68      -0.11       -0.80       -0.68      -0.59   -0.04              0.27       -0.77    -0.05     0.97        1.00    0.01\n",
       "car_ID            -0.11      -0.15       0.13       0.17      0.05       0.26        0.07       -0.03       0.26   -0.16              0.15       -0.02    -0.20     0.02        0.01    1.00"
      ]
     },
     "execution_count": 76,
     "metadata": {},
     "output_type": "execute_result"
    }
   ],
   "source": [
    "# Checking the correlation using Corr function as an alternative to HeatMap.\n",
    "round(rfe_df.corr(),2)"
   ]
  },
  {
   "cell_type": "markdown",
   "metadata": {},
   "source": [
    "# 1. Reading, Understanding and Visualizing the data."
   ]
  },
  {
   "cell_type": "code",
   "execution_count": 77,
   "metadata": {},
   "outputs": [
    {
     "name": "stdout",
     "output_type": "stream",
     "text": [
      "CarName\n",
      "fueltype\n",
      "aspiration\n",
      "doornumber\n",
      "carbody\n",
      "drivewheel\n",
      "enginelocation\n",
      "enginetype\n",
      "cylindernumber\n",
      "fuelsystem\n",
      "companyname\n",
      "modelname\n"
     ]
    }
   ],
   "source": [
    "# Categorical Columns: Fetching columns which are in string/Object/Categorical form\n",
    "for i in rfe_df.columns:\n",
    "    if i not in ('car_ID','symboling','wheelbase','carlength','carwidth','carheight','curbweight','enginesize','boreratio','stroke','compressionratio','horsepower','peakrpm','citympg','highwaympg','price'):\n",
    "        print(i)"
   ]
  },
  {
   "cell_type": "markdown",
   "metadata": {},
   "source": [
    "# 2. Preparing the Data"
   ]
  },
  {
   "cell_type": "markdown",
   "metadata": {},
   "source": [
    "#### Encoding and creating dummy variables"
   ]
  },
  {
   "cell_type": "code",
   "execution_count": 78,
   "metadata": {},
   "outputs": [],
   "source": [
    "# Encoding categorical variables which have only 2 values with 0 and 1.\n",
    "rfe_df.fueltype = rfe_df.fueltype.map({\"gas\":0,\"diesel\":1})\n",
    "rfe_df.aspiration = rfe_df.aspiration.map({\"std\":0,\"turbo\":1})\n",
    "rfe_df.enginelocation = rfe_df.enginelocation.map({\"front\":0,\"rear\":1})\n",
    "rfe_df.doornumber = rfe_df.doornumber.map({\"two\":0,\"four\":1})"
   ]
  },
  {
   "cell_type": "code",
   "execution_count": 79,
   "metadata": {},
   "outputs": [],
   "source": [
    "# Dummy Encoding categorical variables which have more than 2 values using pd.dummies function.\n",
    "carbody=pd.get_dummies(rfe_df['carbody'],drop_first=True)\n",
    "drivewheel=pd.get_dummies(rfe_df['drivewheel'],drop_first=True)\n",
    "enginetype=pd.get_dummies(rfe_df['enginetype'],drop_first=True)\n",
    "cylindernumber=pd.get_dummies(rfe_df['cylindernumber'],drop_first=True)\n",
    "fuelsystem=pd.get_dummies(rfe_df['fuelsystem'],drop_first=True)\n",
    "companyname=pd.get_dummies(rfe_df['companyname'],drop_first=True)"
   ]
  },
  {
   "cell_type": "code",
   "execution_count": 80,
   "metadata": {},
   "outputs": [],
   "source": [
    "# Dropping original columns after dummy columns have been created\n",
    "rfe_df.drop(['carbody','fuelsystem','cylindernumber','enginetype','drivewheel','CarName','car_ID','modelname'],axis=1,inplace=True)"
   ]
  },
  {
   "cell_type": "code",
   "execution_count": 81,
   "metadata": {},
   "outputs": [],
   "source": [
    "# Merging dummy columns with the original Dataset using concat function   \n",
    "rfe_df=pd.concat([rfe_df,carbody,drivewheel,enginetype,cylindernumber,fuelsystem,companyname],axis=1)"
   ]
  },
  {
   "cell_type": "code",
   "execution_count": 82,
   "metadata": {},
   "outputs": [
    {
     "data": {
      "text/plain": [
       "Index(['price', 'symboling', 'fueltype', 'aspiration', 'doornumber', 'enginelocation', 'wheelbase', 'carlength', 'carwidth', 'carheight', 'curbweight', 'enginesize', 'boreratio', 'stroke', 'compressionratio', 'horsepower', 'peakrpm', 'citympg', 'highwaympg', 'companyname', 'hardtop', 'hatchback', 'sedan', 'wagon', 'fwd', 'rwd', 'dohcv', 'l', 'ohc', 'ohcf', 'ohcv', 'rotor', 'five', 'four', 'six', 'three', 'twelve', 'two', '2bbl', '4bbl', 'idi', 'mfi', 'mpfi', 'spdi', 'spfi', 'audi', 'bmw', 'buick', 'chevrolet', 'dodge', 'honda', 'isuzu', 'jaguar', 'mazda', 'mercury', 'mitsubishi', 'nissan', 'peugeot', 'plymouth', 'porsche', 'renault', 'saab', 'subaru', 'toyota', 'volkswagen', 'volvo'], dtype='object')"
      ]
     },
     "execution_count": 82,
     "metadata": {},
     "output_type": "execute_result"
    }
   ],
   "source": [
    "# List of columns after performing Dummy Encoding\n",
    "rfe_df.columns"
   ]
  },
  {
   "cell_type": "code",
   "execution_count": 83,
   "metadata": {},
   "outputs": [
    {
     "data": {
      "text/plain": [
       "(205, 65)"
      ]
     },
     "execution_count": 83,
     "metadata": {},
     "output_type": "execute_result"
    }
   ],
   "source": [
    "# Total number of columns after dummy encoding and merging the data.\n",
    "rfe_df.drop(['companyname'],axis=1,inplace=True)\n",
    "rfe_df.shape"
   ]
  },
  {
   "cell_type": "code",
   "execution_count": 84,
   "metadata": {
    "scrolled": true
   },
   "outputs": [
    {
     "name": "stdout",
     "output_type": "stream",
     "text": [
      "Train Data: (143, 65)\n",
      "Test Data: (62, 65)\n"
     ]
    }
   ],
   "source": [
    "# Spliting dataframe into Train and Test in 70:30 Ratio respectively.\n",
    "rfe_df_train,rfe_df_test=train_test_split(rfe_df,train_size=0.7,random_state=100)\n",
    "print('Train Data:',rfe_df_train.shape)\n",
    "print('Test Data:',rfe_df_test.shape)"
   ]
  },
  {
   "cell_type": "code",
   "execution_count": 85,
   "metadata": {},
   "outputs": [],
   "source": [
    "# Storing the numeric columns of test data for MinMaxScaling i.e. normalizing into a variable\n",
    "rfe_numeric_vars_test=['symboling','wheelbase','carlength','carwidth','carheight','curbweight','enginesize','boreratio','stroke','compressionratio','horsepower','peakrpm','citympg','highwaympg','price']"
   ]
  },
  {
   "cell_type": "code",
   "execution_count": 86,
   "metadata": {},
   "outputs": [],
   "source": [
    "# Storing all the numeric columns of train data for MinMaxScaling i.e. normalizing into a variable\n",
    "rfe_numeric_vars_train=['symboling','wheelbase','carlength','carwidth','carheight','curbweight','enginesize','boreratio','stroke','compressionratio','horsepower','peakrpm','citympg','highwaympg','price']"
   ]
  },
  {
   "cell_type": "markdown",
   "metadata": {},
   "source": [
    "### Rescaling the Features"
   ]
  },
  {
   "cell_type": "markdown",
   "metadata": {},
   "source": [
    "- It is done in order to keep all columns value in same scale\n",
    "- There are basically 2 methods: <br>\n",
    " <b> 1) Normalisation (Min-Max Scaling) <br>\n",
    " <b> 2) Standardisation"
   ]
  },
  {
   "cell_type": "code",
   "execution_count": 87,
   "metadata": {},
   "outputs": [],
   "source": [
    "# Importing the minmaxscaler package for normalisation\n",
    "from sklearn.preprocessing import MinMaxScaler"
   ]
  },
  {
   "cell_type": "code",
   "execution_count": 88,
   "metadata": {},
   "outputs": [],
   "source": [
    "# Instantiating an object of MinMaxScaler Class.\n",
    "rfe_scaler=MinMaxScaler()"
   ]
  },
  {
   "cell_type": "code",
   "execution_count": 89,
   "metadata": {},
   "outputs": [],
   "source": [
    "# Fitting Train Data on Numeric Data\n",
    "rfe_df_train[rfe_numeric_vars_train]=rfe_scaler.fit_transform(rfe_df_train[rfe_numeric_vars_train])"
   ]
  },
  {
   "cell_type": "code",
   "execution_count": 90,
   "metadata": {},
   "outputs": [],
   "source": [
    "# Instantiating an object of MinMaxScaler Class for test data.\n",
    "rfe_scaler1=MinMaxScaler()"
   ]
  },
  {
   "cell_type": "code",
   "execution_count": 91,
   "metadata": {},
   "outputs": [],
   "source": [
    "# Fitting Train Data on Numeric Data\n",
    "rfe_df_test[rfe_numeric_vars_test]=rfe_scaler1.fit_transform(rfe_df_test[rfe_numeric_vars_test])"
   ]
  },
  {
   "cell_type": "code",
   "execution_count": 92,
   "metadata": {},
   "outputs": [
    {
     "data": {
      "text/html": [
       "<div>\n",
       "<style scoped>\n",
       "    .dataframe tbody tr th:only-of-type {\n",
       "        vertical-align: middle;\n",
       "    }\n",
       "\n",
       "    .dataframe tbody tr th {\n",
       "        vertical-align: top;\n",
       "    }\n",
       "\n",
       "    .dataframe thead th {\n",
       "        text-align: right;\n",
       "    }\n",
       "</style>\n",
       "<table border=\"1\" class=\"dataframe\">\n",
       "  <thead>\n",
       "    <tr style=\"text-align: right;\">\n",
       "      <th></th>\n",
       "      <th>price</th>\n",
       "      <th>symboling</th>\n",
       "      <th>fueltype</th>\n",
       "      <th>aspiration</th>\n",
       "      <th>doornumber</th>\n",
       "      <th>enginelocation</th>\n",
       "      <th>wheelbase</th>\n",
       "      <th>carlength</th>\n",
       "      <th>carwidth</th>\n",
       "      <th>carheight</th>\n",
       "      <th>curbweight</th>\n",
       "      <th>enginesize</th>\n",
       "      <th>boreratio</th>\n",
       "      <th>stroke</th>\n",
       "      <th>compressionratio</th>\n",
       "      <th>horsepower</th>\n",
       "      <th>peakrpm</th>\n",
       "      <th>citympg</th>\n",
       "      <th>highwaympg</th>\n",
       "      <th>hardtop</th>\n",
       "      <th>hatchback</th>\n",
       "      <th>sedan</th>\n",
       "      <th>wagon</th>\n",
       "      <th>fwd</th>\n",
       "      <th>rwd</th>\n",
       "      <th>dohcv</th>\n",
       "      <th>l</th>\n",
       "      <th>ohc</th>\n",
       "      <th>ohcf</th>\n",
       "      <th>ohcv</th>\n",
       "      <th>rotor</th>\n",
       "      <th>five</th>\n",
       "      <th>four</th>\n",
       "      <th>six</th>\n",
       "      <th>three</th>\n",
       "      <th>twelve</th>\n",
       "      <th>two</th>\n",
       "      <th>2bbl</th>\n",
       "      <th>4bbl</th>\n",
       "      <th>idi</th>\n",
       "      <th>mfi</th>\n",
       "      <th>mpfi</th>\n",
       "      <th>spdi</th>\n",
       "      <th>spfi</th>\n",
       "      <th>audi</th>\n",
       "      <th>bmw</th>\n",
       "      <th>buick</th>\n",
       "      <th>chevrolet</th>\n",
       "      <th>dodge</th>\n",
       "      <th>honda</th>\n",
       "      <th>isuzu</th>\n",
       "      <th>jaguar</th>\n",
       "      <th>mazda</th>\n",
       "      <th>mercury</th>\n",
       "      <th>mitsubishi</th>\n",
       "      <th>nissan</th>\n",
       "      <th>peugeot</th>\n",
       "      <th>plymouth</th>\n",
       "      <th>porsche</th>\n",
       "      <th>renault</th>\n",
       "      <th>saab</th>\n",
       "      <th>subaru</th>\n",
       "      <th>toyota</th>\n",
       "      <th>volkswagen</th>\n",
       "      <th>volvo</th>\n",
       "    </tr>\n",
       "  </thead>\n",
       "  <tbody>\n",
       "    <tr>\n",
       "      <th>160</th>\n",
       "      <td>0.058474</td>\n",
       "      <td>0.4</td>\n",
       "      <td>0</td>\n",
       "      <td>0</td>\n",
       "      <td>1</td>\n",
       "      <td>0</td>\n",
       "      <td>0.265306</td>\n",
       "      <td>0.341732</td>\n",
       "      <td>0.200000</td>\n",
       "      <td>0.346154</td>\n",
       "      <td>0.132148</td>\n",
       "      <td>0.082969</td>\n",
       "      <td>0.515873</td>\n",
       "      <td>0.524590</td>\n",
       "      <td>0.12500</td>\n",
       "      <td>0.116129</td>\n",
       "      <td>0.265306</td>\n",
       "      <td>1.000000</td>\n",
       "      <td>1.000000</td>\n",
       "      <td>0</td>\n",
       "      <td>0</td>\n",
       "      <td>1</td>\n",
       "      <td>0</td>\n",
       "      <td>1</td>\n",
       "      <td>0</td>\n",
       "      <td>0</td>\n",
       "      <td>0</td>\n",
       "      <td>1</td>\n",
       "      <td>0</td>\n",
       "      <td>0</td>\n",
       "      <td>0</td>\n",
       "      <td>0</td>\n",
       "      <td>1</td>\n",
       "      <td>0</td>\n",
       "      <td>0</td>\n",
       "      <td>0</td>\n",
       "      <td>0</td>\n",
       "      <td>1</td>\n",
       "      <td>0</td>\n",
       "      <td>0</td>\n",
       "      <td>0</td>\n",
       "      <td>0</td>\n",
       "      <td>0</td>\n",
       "      <td>0</td>\n",
       "      <td>0</td>\n",
       "      <td>0</td>\n",
       "      <td>0</td>\n",
       "      <td>0</td>\n",
       "      <td>0</td>\n",
       "      <td>0</td>\n",
       "      <td>0</td>\n",
       "      <td>0</td>\n",
       "      <td>0</td>\n",
       "      <td>0</td>\n",
       "      <td>0</td>\n",
       "      <td>0</td>\n",
       "      <td>0</td>\n",
       "      <td>0</td>\n",
       "      <td>0</td>\n",
       "      <td>0</td>\n",
       "      <td>0</td>\n",
       "      <td>0</td>\n",
       "      <td>1</td>\n",
       "      <td>0</td>\n",
       "      <td>0</td>\n",
       "    </tr>\n",
       "    <tr>\n",
       "      <th>186</th>\n",
       "      <td>0.077398</td>\n",
       "      <td>0.8</td>\n",
       "      <td>0</td>\n",
       "      <td>0</td>\n",
       "      <td>1</td>\n",
       "      <td>0</td>\n",
       "      <td>0.311953</td>\n",
       "      <td>0.426772</td>\n",
       "      <td>0.315789</td>\n",
       "      <td>0.605769</td>\n",
       "      <td>0.219125</td>\n",
       "      <td>0.131004</td>\n",
       "      <td>0.515873</td>\n",
       "      <td>0.726776</td>\n",
       "      <td>0.12500</td>\n",
       "      <td>0.212903</td>\n",
       "      <td>0.448980</td>\n",
       "      <td>0.541667</td>\n",
       "      <td>0.580645</td>\n",
       "      <td>0</td>\n",
       "      <td>0</td>\n",
       "      <td>1</td>\n",
       "      <td>0</td>\n",
       "      <td>1</td>\n",
       "      <td>0</td>\n",
       "      <td>0</td>\n",
       "      <td>0</td>\n",
       "      <td>1</td>\n",
       "      <td>0</td>\n",
       "      <td>0</td>\n",
       "      <td>0</td>\n",
       "      <td>0</td>\n",
       "      <td>1</td>\n",
       "      <td>0</td>\n",
       "      <td>0</td>\n",
       "      <td>0</td>\n",
       "      <td>0</td>\n",
       "      <td>0</td>\n",
       "      <td>0</td>\n",
       "      <td>0</td>\n",
       "      <td>0</td>\n",
       "      <td>1</td>\n",
       "      <td>0</td>\n",
       "      <td>0</td>\n",
       "      <td>0</td>\n",
       "      <td>0</td>\n",
       "      <td>0</td>\n",
       "      <td>0</td>\n",
       "      <td>0</td>\n",
       "      <td>0</td>\n",
       "      <td>0</td>\n",
       "      <td>0</td>\n",
       "      <td>0</td>\n",
       "      <td>0</td>\n",
       "      <td>0</td>\n",
       "      <td>0</td>\n",
       "      <td>0</td>\n",
       "      <td>0</td>\n",
       "      <td>0</td>\n",
       "      <td>0</td>\n",
       "      <td>0</td>\n",
       "      <td>0</td>\n",
       "      <td>0</td>\n",
       "      <td>1</td>\n",
       "      <td>0</td>\n",
       "    </tr>\n",
       "    <tr>\n",
       "      <th>59</th>\n",
       "      <td>0.086148</td>\n",
       "      <td>0.6</td>\n",
       "      <td>0</td>\n",
       "      <td>0</td>\n",
       "      <td>0</td>\n",
       "      <td>0</td>\n",
       "      <td>0.355685</td>\n",
       "      <td>0.522835</td>\n",
       "      <td>0.421053</td>\n",
       "      <td>0.413462</td>\n",
       "      <td>0.271985</td>\n",
       "      <td>0.187773</td>\n",
       "      <td>0.674603</td>\n",
       "      <td>0.721311</td>\n",
       "      <td>0.10000</td>\n",
       "      <td>0.206452</td>\n",
       "      <td>0.265306</td>\n",
       "      <td>0.500000</td>\n",
       "      <td>0.516129</td>\n",
       "      <td>0</td>\n",
       "      <td>1</td>\n",
       "      <td>0</td>\n",
       "      <td>0</td>\n",
       "      <td>1</td>\n",
       "      <td>0</td>\n",
       "      <td>0</td>\n",
       "      <td>0</td>\n",
       "      <td>1</td>\n",
       "      <td>0</td>\n",
       "      <td>0</td>\n",
       "      <td>0</td>\n",
       "      <td>0</td>\n",
       "      <td>1</td>\n",
       "      <td>0</td>\n",
       "      <td>0</td>\n",
       "      <td>0</td>\n",
       "      <td>0</td>\n",
       "      <td>1</td>\n",
       "      <td>0</td>\n",
       "      <td>0</td>\n",
       "      <td>0</td>\n",
       "      <td>0</td>\n",
       "      <td>0</td>\n",
       "      <td>0</td>\n",
       "      <td>0</td>\n",
       "      <td>0</td>\n",
       "      <td>0</td>\n",
       "      <td>0</td>\n",
       "      <td>0</td>\n",
       "      <td>0</td>\n",
       "      <td>0</td>\n",
       "      <td>0</td>\n",
       "      <td>1</td>\n",
       "      <td>0</td>\n",
       "      <td>0</td>\n",
       "      <td>0</td>\n",
       "      <td>0</td>\n",
       "      <td>0</td>\n",
       "      <td>0</td>\n",
       "      <td>0</td>\n",
       "      <td>0</td>\n",
       "      <td>0</td>\n",
       "      <td>0</td>\n",
       "      <td>0</td>\n",
       "      <td>0</td>\n",
       "    </tr>\n",
       "    <tr>\n",
       "      <th>165</th>\n",
       "      <td>0.097473</td>\n",
       "      <td>0.6</td>\n",
       "      <td>0</td>\n",
       "      <td>0</td>\n",
       "      <td>0</td>\n",
       "      <td>0</td>\n",
       "      <td>0.230321</td>\n",
       "      <td>0.379528</td>\n",
       "      <td>0.157895</td>\n",
       "      <td>0.307692</td>\n",
       "      <td>0.214320</td>\n",
       "      <td>0.082969</td>\n",
       "      <td>0.555556</td>\n",
       "      <td>0.551913</td>\n",
       "      <td>0.15000</td>\n",
       "      <td>0.387097</td>\n",
       "      <td>1.000000</td>\n",
       "      <td>0.500000</td>\n",
       "      <td>0.419355</td>\n",
       "      <td>0</td>\n",
       "      <td>0</td>\n",
       "      <td>1</td>\n",
       "      <td>0</td>\n",
       "      <td>0</td>\n",
       "      <td>1</td>\n",
       "      <td>0</td>\n",
       "      <td>0</td>\n",
       "      <td>0</td>\n",
       "      <td>0</td>\n",
       "      <td>0</td>\n",
       "      <td>0</td>\n",
       "      <td>0</td>\n",
       "      <td>1</td>\n",
       "      <td>0</td>\n",
       "      <td>0</td>\n",
       "      <td>0</td>\n",
       "      <td>0</td>\n",
       "      <td>0</td>\n",
       "      <td>0</td>\n",
       "      <td>0</td>\n",
       "      <td>0</td>\n",
       "      <td>1</td>\n",
       "      <td>0</td>\n",
       "      <td>0</td>\n",
       "      <td>0</td>\n",
       "      <td>0</td>\n",
       "      <td>0</td>\n",
       "      <td>0</td>\n",
       "      <td>0</td>\n",
       "      <td>0</td>\n",
       "      <td>0</td>\n",
       "      <td>0</td>\n",
       "      <td>0</td>\n",
       "      <td>0</td>\n",
       "      <td>0</td>\n",
       "      <td>0</td>\n",
       "      <td>0</td>\n",
       "      <td>0</td>\n",
       "      <td>0</td>\n",
       "      <td>0</td>\n",
       "      <td>0</td>\n",
       "      <td>0</td>\n",
       "      <td>1</td>\n",
       "      <td>0</td>\n",
       "      <td>0</td>\n",
       "    </tr>\n",
       "    <tr>\n",
       "      <th>140</th>\n",
       "      <td>0.055099</td>\n",
       "      <td>0.8</td>\n",
       "      <td>0</td>\n",
       "      <td>0</td>\n",
       "      <td>0</td>\n",
       "      <td>0</td>\n",
       "      <td>0.195335</td>\n",
       "      <td>0.200000</td>\n",
       "      <td>0.136842</td>\n",
       "      <td>0.605769</td>\n",
       "      <td>0.202307</td>\n",
       "      <td>0.126638</td>\n",
       "      <td>0.857143</td>\n",
       "      <td>0.311475</td>\n",
       "      <td>0.10625</td>\n",
       "      <td>0.135484</td>\n",
       "      <td>0.102041</td>\n",
       "      <td>0.500000</td>\n",
       "      <td>0.483871</td>\n",
       "      <td>0</td>\n",
       "      <td>1</td>\n",
       "      <td>0</td>\n",
       "      <td>0</td>\n",
       "      <td>0</td>\n",
       "      <td>0</td>\n",
       "      <td>0</td>\n",
       "      <td>0</td>\n",
       "      <td>0</td>\n",
       "      <td>1</td>\n",
       "      <td>0</td>\n",
       "      <td>0</td>\n",
       "      <td>0</td>\n",
       "      <td>1</td>\n",
       "      <td>0</td>\n",
       "      <td>0</td>\n",
       "      <td>0</td>\n",
       "      <td>0</td>\n",
       "      <td>1</td>\n",
       "      <td>0</td>\n",
       "      <td>0</td>\n",
       "      <td>0</td>\n",
       "      <td>0</td>\n",
       "      <td>0</td>\n",
       "      <td>0</td>\n",
       "      <td>0</td>\n",
       "      <td>0</td>\n",
       "      <td>0</td>\n",
       "      <td>0</td>\n",
       "      <td>0</td>\n",
       "      <td>0</td>\n",
       "      <td>0</td>\n",
       "      <td>0</td>\n",
       "      <td>0</td>\n",
       "      <td>0</td>\n",
       "      <td>0</td>\n",
       "      <td>0</td>\n",
       "      <td>0</td>\n",
       "      <td>0</td>\n",
       "      <td>0</td>\n",
       "      <td>0</td>\n",
       "      <td>0</td>\n",
       "      <td>1</td>\n",
       "      <td>0</td>\n",
       "      <td>0</td>\n",
       "      <td>0</td>\n",
       "    </tr>\n",
       "  </tbody>\n",
       "</table>\n",
       "</div>"
      ],
      "text/plain": [
       "        price  symboling  fueltype  aspiration  doornumber  enginelocation  wheelbase  carlength  carwidth  carheight  curbweight  enginesize  boreratio    stroke  compressionratio  horsepower   peakrpm   citympg  highwaympg  hardtop  hatchback  sedan  wagon  fwd  rwd  dohcv  l  ohc  ohcf  ohcv  rotor  five  four  six  three  twelve  two  2bbl  4bbl  idi  mfi  mpfi  spdi  spfi  audi  bmw  buick  chevrolet  dodge  honda  isuzu  jaguar  mazda  mercury  mitsubishi  nissan  peugeot  plymouth  porsche  renault  saab  subaru  toyota  volkswagen  volvo\n",
       "160  0.058474        0.4         0           0           1               0   0.265306   0.341732  0.200000   0.346154    0.132148    0.082969   0.515873  0.524590           0.12500    0.116129  0.265306  1.000000    1.000000        0          0      1      0    1    0      0  0    1     0     0      0     0     1    0      0       0    0     1     0    0    0     0     0     0     0    0      0          0      0      0      0       0      0        0           0       0        0         0        0        0     0       0       1           0      0\n",
       "186  0.077398        0.8         0           0           1               0   0.311953   0.426772  0.315789   0.605769    0.219125    0.131004   0.515873  0.726776           0.12500    0.212903  0.448980  0.541667    0.580645        0          0      1      0    1    0      0  0    1     0     0      0     0     1    0      0       0    0     0     0    0    0     1     0     0     0    0      0          0      0      0      0       0      0        0           0       0        0         0        0        0     0       0       0           1      0\n",
       "59   0.086148        0.6         0           0           0               0   0.355685   0.522835  0.421053   0.413462    0.271985    0.187773   0.674603  0.721311           0.10000    0.206452  0.265306  0.500000    0.516129        0          1      0      0    1    0      0  0    1     0     0      0     0     1    0      0       0    0     1     0    0    0     0     0     0     0    0      0          0      0      0      0       0      1        0           0       0        0         0        0        0     0       0       0           0      0\n",
       "165  0.097473        0.6         0           0           0               0   0.230321   0.379528  0.157895   0.307692    0.214320    0.082969   0.555556  0.551913           0.15000    0.387097  1.000000  0.500000    0.419355        0          0      1      0    0    1      0  0    0     0     0      0     0     1    0      0       0    0     0     0    0    0     1     0     0     0    0      0          0      0      0      0       0      0        0           0       0        0         0        0        0     0       0       1           0      0\n",
       "140  0.055099        0.8         0           0           0               0   0.195335   0.200000  0.136842   0.605769    0.202307    0.126638   0.857143  0.311475           0.10625    0.135484  0.102041  0.500000    0.483871        0          1      0      0    0    0      0  0    0     1     0      0     0     1    0      0       0    0     1     0    0    0     0     0     0     0    0      0          0      0      0      0       0      0        0           0       0        0         0        0        0     0       1       0           0      0"
      ]
     },
     "execution_count": 92,
     "metadata": {},
     "output_type": "execute_result"
    }
   ],
   "source": [
    "# Displaying the normalised data after performin MinMaxScaling\n",
    "rfe_df_test.head()"
   ]
  },
  {
   "cell_type": "markdown",
   "metadata": {},
   "source": [
    "### Defining the X-Axis and Y-Axis of the Train Data."
   ]
  },
  {
   "cell_type": "code",
   "execution_count": 93,
   "metadata": {},
   "outputs": [],
   "source": [
    "# Creating TRAIN data after removing the price for X-Train and preparing Y-Train by filling price into it\n",
    "rfe_df_y_train=rfe_df_train.pop('price')\n",
    "rfe_df_X_train=rfe_df_train"
   ]
  },
  {
   "cell_type": "code",
   "execution_count": 94,
   "metadata": {},
   "outputs": [],
   "source": [
    "# Importing statsmodels.api to add constant on train data\n",
    "import statsmodels.api as sm"
   ]
  },
  {
   "cell_type": "code",
   "execution_count": 95,
   "metadata": {},
   "outputs": [],
   "source": [
    "# Check for the VIF values of the feature variables. Therefore importing the VIF package.\n",
    "from statsmodels.stats.outliers_influence import variance_inflation_factor"
   ]
  },
  {
   "cell_type": "code",
   "execution_count": 96,
   "metadata": {},
   "outputs": [],
   "source": [
    "# Importing RFE and LinearRegression\n",
    "from sklearn.feature_selection import RFE\n",
    "from sklearn.linear_model import LinearRegression"
   ]
  },
  {
   "cell_type": "code",
   "execution_count": 97,
   "metadata": {},
   "outputs": [],
   "source": [
    "# Running RFE with the output number of the variable equal to 10\n",
    "rfe_lm = LinearRegression()\n",
    "rfe_lm.fit(rfe_df_X_train, rfe_df_y_train)\n",
    "# Running RFE\n",
    "rfe = RFE(rfe_lm, 10)\n",
    "rfe = rfe.fit(rfe_df_X_train, rfe_df_y_train)"
   ]
  },
  {
   "cell_type": "code",
   "execution_count": 98,
   "metadata": {},
   "outputs": [
    {
     "data": {
      "text/plain": [
       "[('symboling', False, 51),\n",
       " ('fueltype', False, 25),\n",
       " ('aspiration', False, 14),\n",
       " ('doornumber', False, 47),\n",
       " ('enginelocation', True, 1),\n",
       " ('wheelbase', False, 17),\n",
       " ('carlength', False, 21),\n",
       " ('carwidth', True, 1),\n",
       " ('carheight', False, 18),\n",
       " ('curbweight', True, 1),\n",
       " ('enginesize', True, 1),\n",
       " ('boreratio', True, 1),\n",
       " ('stroke', False, 2),\n",
       " ('compressionratio', False, 26),\n",
       " ('horsepower', False, 15),\n",
       " ('peakrpm', False, 16),\n",
       " ('citympg', False, 39),\n",
       " ('highwaympg', False, 27),\n",
       " ('hardtop', False, 31),\n",
       " ('hatchback', False, 30),\n",
       " ('sedan', False, 32),\n",
       " ('wagon', False, 33),\n",
       " ('fwd', False, 54),\n",
       " ('rwd', False, 41),\n",
       " ('dohcv', False, 12),\n",
       " ('l', False, 7),\n",
       " ('ohc', False, 55),\n",
       " ('ohcf', False, 10),\n",
       " ('ohcv', False, 40),\n",
       " ('rotor', False, 3),\n",
       " ('five', False, 5),\n",
       " ('four', False, 4),\n",
       " ('six', False, 29),\n",
       " ('three', True, 1),\n",
       " ('twelve', True, 1),\n",
       " ('two', True, 1),\n",
       " ('2bbl', False, 46),\n",
       " ('4bbl', False, 34),\n",
       " ('idi', False, 24),\n",
       " ('mfi', False, 48),\n",
       " ('mpfi', False, 36),\n",
       " ('spdi', False, 35),\n",
       " ('spfi', False, 49),\n",
       " ('audi', False, 37),\n",
       " ('bmw', True, 1),\n",
       " ('buick', False, 38),\n",
       " ('chevrolet', False, 23),\n",
       " ('dodge', False, 20),\n",
       " ('honda', False, 22),\n",
       " ('isuzu', False, 52),\n",
       " ('jaguar', False, 28),\n",
       " ('mazda', False, 43),\n",
       " ('mercury', False, 50),\n",
       " ('mitsubishi', False, 13),\n",
       " ('nissan', False, 42),\n",
       " ('peugeot', False, 6),\n",
       " ('plymouth', False, 19),\n",
       " ('porsche', True, 1),\n",
       " ('renault', False, 53),\n",
       " ('saab', False, 9),\n",
       " ('subaru', False, 11),\n",
       " ('toyota', False, 45),\n",
       " ('volkswagen', False, 44),\n",
       " ('volvo', False, 8)]"
      ]
     },
     "execution_count": 98,
     "metadata": {},
     "output_type": "execute_result"
    }
   ],
   "source": [
    "# Displaying n columns according to its rank decided by the RFE\n",
    "list(zip(rfe_df_X_train.columns,rfe.support_,rfe.ranking_))"
   ]
  },
  {
   "cell_type": "code",
   "execution_count": 99,
   "metadata": {},
   "outputs": [
    {
     "data": {
      "text/plain": [
       "Index(['enginelocation', 'carwidth', 'curbweight', 'enginesize', 'boreratio', 'three', 'twelve', 'two', 'bmw', 'porsche'], dtype='object')"
      ]
     },
     "execution_count": 99,
     "metadata": {},
     "output_type": "execute_result"
    }
   ],
   "source": [
    "# Displaying the Top n Coluns suggested by RFE.\n",
    "rfe_col = rfe_df_X_train.columns[rfe.support_]\n",
    "rfe_col"
   ]
  },
  {
   "cell_type": "code",
   "execution_count": 100,
   "metadata": {},
   "outputs": [
    {
     "data": {
      "text/plain": [
       "Index(['symboling', 'fueltype', 'aspiration', 'doornumber', 'wheelbase', 'carlength', 'carheight', 'stroke', 'compressionratio', 'horsepower', 'peakrpm', 'citympg', 'highwaympg', 'hardtop', 'hatchback', 'sedan', 'wagon', 'fwd', 'rwd', 'dohcv', 'l', 'ohc', 'ohcf', 'ohcv', 'rotor', 'five', 'four', 'six', '2bbl', '4bbl', 'idi', 'mfi', 'mpfi', 'spdi', 'spfi', 'audi', 'buick', 'chevrolet', 'dodge', 'honda', 'isuzu', 'jaguar', 'mazda', 'mercury', 'mitsubishi', 'nissan', 'peugeot', 'plymouth', 'renault', 'saab', 'subaru', 'toyota', 'volkswagen', 'volvo'], dtype='object')"
      ]
     },
     "execution_count": 100,
     "metadata": {},
     "output_type": "execute_result"
    }
   ],
   "source": [
    "# Displaying Columns which were not considered in Top n linear model variables\n",
    "rfe_df_X_train.columns[~rfe.support_]"
   ]
  },
  {
   "cell_type": "markdown",
   "metadata": {},
   "source": [
    "### Building model using statsmodel, for the detailed statistics"
   ]
  },
  {
   "cell_type": "markdown",
   "metadata": {},
   "source": [
    "#### First Model"
   ]
  },
  {
   "cell_type": "code",
   "execution_count": 101,
   "metadata": {},
   "outputs": [
    {
     "name": "stdout",
     "output_type": "stream",
     "text": [
      "                            OLS Regression Results                            \n",
      "==============================================================================\n",
      "Dep. Variable:                  price   R-squared:                       0.912\n",
      "Model:                            OLS   Adj. R-squared:                  0.906\n",
      "Method:                 Least Squares   F-statistic:                     137.1\n",
      "Date:                Wed, 25 Dec 2019   Prob (F-statistic):           1.21e-64\n",
      "Time:                        16:24:27   Log-Likelihood:                 190.87\n",
      "No. Observations:                 143   AIC:                            -359.7\n",
      "Df Residuals:                     132   BIC:                            -327.1\n",
      "Df Model:                          10                                         \n",
      "Covariance Type:            nonrobust                                         \n",
      "==================================================================================\n",
      "                     coef    std err          t      P>|t|      [0.025      0.975]\n",
      "----------------------------------------------------------------------------------\n",
      "const             -0.1594      0.019     -8.597      0.000      -0.196      -0.123\n",
      "enginelocation     0.3298      0.086      3.844      0.000       0.160       0.500\n",
      "carwidth           0.3283      0.067      4.910      0.000       0.196       0.461\n",
      "curbweight         0.2989      0.080      3.729      0.000       0.140       0.457\n",
      "enginesize         0.5732      0.097      5.926      0.000       0.382       0.764\n",
      "boreratio         -0.1088      0.037     -2.976      0.003      -0.181      -0.036\n",
      "three              0.1802      0.068      2.638      0.009       0.045       0.315\n",
      "twelve            -0.0536      0.081     -0.659      0.511      -0.214       0.107\n",
      "two                0.1542      0.037      4.123      0.000       0.080       0.228\n",
      "bmw                0.2453      0.029      8.327      0.000       0.187       0.304\n",
      "porsche            0.1565      0.052      3.000      0.003       0.053       0.260\n",
      "==============================================================================\n",
      "Omnibus:                       10.995   Durbin-Watson:                   1.961\n",
      "Prob(Omnibus):                  0.004   Jarque-Bera (JB):               15.683\n",
      "Skew:                           0.423   Prob(JB):                     0.000393\n",
      "Kurtosis:                       4.385   Cond. No.                         30.0\n",
      "==============================================================================\n",
      "\n",
      "Warnings:\n",
      "[1] Standard Errors assume that the covariance matrix of the errors is correctly specified.\n"
     ]
    }
   ],
   "source": [
    "# Creating X_test dataframe with RFE selected variables\n",
    "rfe_df_X_train = rfe_df_X_train[rfe_col]\n",
    "# Adding a constant variable \n",
    "import statsmodels.api as sm  \n",
    "rfe_df_X_train = sm.add_constant(rfe_df_X_train)\n",
    "# Running the linear model\n",
    "rfe_lm = sm.OLS(rfe_df_y_train,rfe_df_X_train).fit()\n",
    "print(rfe_lm.summary())"
   ]
  },
  {
   "cell_type": "code",
   "execution_count": 102,
   "metadata": {},
   "outputs": [
    {
     "data": {
      "text/html": [
       "<div>\n",
       "<style scoped>\n",
       "    .dataframe tbody tr th:only-of-type {\n",
       "        vertical-align: middle;\n",
       "    }\n",
       "\n",
       "    .dataframe tbody tr th {\n",
       "        vertical-align: top;\n",
       "    }\n",
       "\n",
       "    .dataframe thead th {\n",
       "        text-align: right;\n",
       "    }\n",
       "</style>\n",
       "<table border=\"1\" class=\"dataframe\">\n",
       "  <thead>\n",
       "    <tr style=\"text-align: right;\">\n",
       "      <th></th>\n",
       "      <th>Features</th>\n",
       "      <th>VIF</th>\n",
       "    </tr>\n",
       "  </thead>\n",
       "  <tbody>\n",
       "    <tr>\n",
       "      <th>0</th>\n",
       "      <td>const</td>\n",
       "      <td>11.19</td>\n",
       "    </tr>\n",
       "    <tr>\n",
       "      <th>3</th>\n",
       "      <td>curbweight</td>\n",
       "      <td>9.26</td>\n",
       "    </tr>\n",
       "    <tr>\n",
       "      <th>4</th>\n",
       "      <td>enginesize</td>\n",
       "      <td>7.23</td>\n",
       "    </tr>\n",
       "    <tr>\n",
       "      <th>2</th>\n",
       "      <td>carwidth</td>\n",
       "      <td>4.92</td>\n",
       "    </tr>\n",
       "    <tr>\n",
       "      <th>5</th>\n",
       "      <td>boreratio</td>\n",
       "      <td>1.85</td>\n",
       "    </tr>\n",
       "    <tr>\n",
       "      <th>10</th>\n",
       "      <td>porsche</td>\n",
       "      <td>1.82</td>\n",
       "    </tr>\n",
       "    <tr>\n",
       "      <th>1</th>\n",
       "      <td>enginelocation</td>\n",
       "      <td>1.66</td>\n",
       "    </tr>\n",
       "    <tr>\n",
       "      <th>7</th>\n",
       "      <td>twelve</td>\n",
       "      <td>1.49</td>\n",
       "    </tr>\n",
       "    <tr>\n",
       "      <th>8</th>\n",
       "      <td>two</td>\n",
       "      <td>1.24</td>\n",
       "    </tr>\n",
       "    <tr>\n",
       "      <th>9</th>\n",
       "      <td>bmw</td>\n",
       "      <td>1.13</td>\n",
       "    </tr>\n",
       "    <tr>\n",
       "      <th>6</th>\n",
       "      <td>three</td>\n",
       "      <td>1.05</td>\n",
       "    </tr>\n",
       "  </tbody>\n",
       "</table>\n",
       "</div>"
      ],
      "text/plain": [
       "          Features    VIF\n",
       "0            const  11.19\n",
       "3       curbweight   9.26\n",
       "4       enginesize   7.23\n",
       "2         carwidth   4.92\n",
       "5        boreratio   1.85\n",
       "10         porsche   1.82\n",
       "1   enginelocation   1.66\n",
       "7           twelve   1.49\n",
       "8              two   1.24\n",
       "9              bmw   1.13\n",
       "6            three   1.05"
      ]
     },
     "execution_count": 102,
     "metadata": {},
     "output_type": "execute_result"
    }
   ],
   "source": [
    "# Check for the VIF values of the feature variables. \n",
    "from statsmodels.stats.outliers_influence import variance_inflation_factor\n",
    "# Create a dataframe that will contain the names of all the feature variables and their respective VIFs\n",
    "rfe_vif = pd.DataFrame()\n",
    "rfe_vif['Features'] = rfe_df_X_train.columns\n",
    "rfe_vif['VIF'] = [variance_inflation_factor(rfe_df_X_train.values, i) for i in range(rfe_df_X_train.shape[1])]\n",
    "rfe_vif['VIF'] = round(rfe_vif['VIF'], 2)\n",
    "rfe_vif = rfe_vif.sort_values(by = \"VIF\", ascending = False)\n",
    "rfe_vif"
   ]
  },
  {
   "cell_type": "code",
   "execution_count": 103,
   "metadata": {},
   "outputs": [],
   "source": [
    "# Dropping highly correlated variables and insignificant variables\n",
    "rfe_df_X_train= rfe_df_X_train.drop('twelve', 1,)"
   ]
  },
  {
   "cell_type": "markdown",
   "metadata": {},
   "source": [
    "#### Second Model"
   ]
  },
  {
   "cell_type": "code",
   "execution_count": 104,
   "metadata": {
    "scrolled": false
   },
   "outputs": [
    {
     "name": "stdout",
     "output_type": "stream",
     "text": [
      "                            OLS Regression Results                            \n",
      "==============================================================================\n",
      "Dep. Variable:                  price   R-squared:                       0.912\n",
      "Model:                            OLS   Adj. R-squared:                  0.906\n",
      "Method:                 Least Squares   F-statistic:                     152.9\n",
      "Date:                Wed, 25 Dec 2019   Prob (F-statistic):           1.18e-65\n",
      "Time:                        16:24:28   Log-Likelihood:                 190.63\n",
      "No. Observations:                 143   AIC:                            -361.3\n",
      "Df Residuals:                     133   BIC:                            -331.6\n",
      "Df Model:                           9                                         \n",
      "Covariance Type:            nonrobust                                         \n",
      "==================================================================================\n",
      "                     coef    std err          t      P>|t|      [0.025      0.975]\n",
      "----------------------------------------------------------------------------------\n",
      "const             -0.1587      0.018     -8.591      0.000      -0.195      -0.122\n",
      "enginelocation     0.3348      0.085      3.925      0.000       0.166       0.503\n",
      "carwidth           0.3303      0.067      4.954      0.000       0.198       0.462\n",
      "curbweight         0.3126      0.077      4.048      0.000       0.160       0.465\n",
      "enginesize         0.5389      0.081      6.625      0.000       0.378       0.700\n",
      "boreratio         -0.1075      0.036     -2.952      0.004      -0.180      -0.035\n",
      "three              0.1793      0.068      2.631      0.010       0.044       0.314\n",
      "two                0.1485      0.036      4.089      0.000       0.077       0.220\n",
      "bmw                0.2490      0.029      8.628      0.000       0.192       0.306\n",
      "porsche            0.1596      0.052      3.077      0.003       0.057       0.262\n",
      "==============================================================================\n",
      "Omnibus:                       12.252   Durbin-Watson:                   1.970\n",
      "Prob(Omnibus):                  0.002   Jarque-Bera (JB):               17.484\n",
      "Skew:                           0.473   Prob(JB):                     0.000160\n",
      "Kurtosis:                       4.428   Cond. No.                         25.5\n",
      "==============================================================================\n",
      "\n",
      "Warnings:\n",
      "[1] Standard Errors assume that the covariance matrix of the errors is correctly specified.\n"
     ]
    }
   ],
   "source": [
    "# Adding a constant variable \n",
    "rfe_df_X_train_addconst1 = sm.add_constant(rfe_df_X_train)\n",
    "# Running the linear model\n",
    "rfe_lm1 = sm.OLS(rfe_df_y_train,rfe_df_X_train_addconst1).fit()\n",
    "print(rfe_lm1.summary())"
   ]
  },
  {
   "cell_type": "code",
   "execution_count": 105,
   "metadata": {},
   "outputs": [
    {
     "data": {
      "text/html": [
       "<div>\n",
       "<style scoped>\n",
       "    .dataframe tbody tr th:only-of-type {\n",
       "        vertical-align: middle;\n",
       "    }\n",
       "\n",
       "    .dataframe tbody tr th {\n",
       "        vertical-align: top;\n",
       "    }\n",
       "\n",
       "    .dataframe thead th {\n",
       "        text-align: right;\n",
       "    }\n",
       "</style>\n",
       "<table border=\"1\" class=\"dataframe\">\n",
       "  <thead>\n",
       "    <tr style=\"text-align: right;\">\n",
       "      <th></th>\n",
       "      <th>Features</th>\n",
       "      <th>VIF</th>\n",
       "    </tr>\n",
       "  </thead>\n",
       "  <tbody>\n",
       "    <tr>\n",
       "      <th>0</th>\n",
       "      <td>const</td>\n",
       "      <td>11.15</td>\n",
       "    </tr>\n",
       "    <tr>\n",
       "      <th>3</th>\n",
       "      <td>curbweight</td>\n",
       "      <td>8.64</td>\n",
       "    </tr>\n",
       "    <tr>\n",
       "      <th>4</th>\n",
       "      <td>enginesize</td>\n",
       "      <td>5.13</td>\n",
       "    </tr>\n",
       "    <tr>\n",
       "      <th>2</th>\n",
       "      <td>carwidth</td>\n",
       "      <td>4.91</td>\n",
       "    </tr>\n",
       "    <tr>\n",
       "      <th>5</th>\n",
       "      <td>boreratio</td>\n",
       "      <td>1.85</td>\n",
       "    </tr>\n",
       "    <tr>\n",
       "      <th>9</th>\n",
       "      <td>porsche</td>\n",
       "      <td>1.80</td>\n",
       "    </tr>\n",
       "    <tr>\n",
       "      <th>1</th>\n",
       "      <td>enginelocation</td>\n",
       "      <td>1.65</td>\n",
       "    </tr>\n",
       "    <tr>\n",
       "      <th>7</th>\n",
       "      <td>two</td>\n",
       "      <td>1.17</td>\n",
       "    </tr>\n",
       "    <tr>\n",
       "      <th>8</th>\n",
       "      <td>bmw</td>\n",
       "      <td>1.09</td>\n",
       "    </tr>\n",
       "    <tr>\n",
       "      <th>6</th>\n",
       "      <td>three</td>\n",
       "      <td>1.05</td>\n",
       "    </tr>\n",
       "  </tbody>\n",
       "</table>\n",
       "</div>"
      ],
      "text/plain": [
       "         Features    VIF\n",
       "0           const  11.15\n",
       "3      curbweight   8.64\n",
       "4      enginesize   5.13\n",
       "2        carwidth   4.91\n",
       "5       boreratio   1.85\n",
       "9         porsche   1.80\n",
       "1  enginelocation   1.65\n",
       "7             two   1.17\n",
       "8             bmw   1.09\n",
       "6           three   1.05"
      ]
     },
     "execution_count": 105,
     "metadata": {},
     "output_type": "execute_result"
    }
   ],
   "source": [
    "# Check for the VIF values of the feature variables. \n",
    "from statsmodels.stats.outliers_influence import variance_inflation_factor\n",
    "# Create a dataframe that will contain the names of all the feature variables and their respective VIFs\n",
    "rfe_vif1 = pd.DataFrame()\n",
    "rfe_vif1['Features'] = rfe_df_X_train.columns\n",
    "rfe_vif1['VIF'] = [variance_inflation_factor(rfe_df_X_train.values, i) for i in range(rfe_df_X_train.shape[1])]\n",
    "rfe_vif1['VIF'] = round(rfe_vif1['VIF'], 2)\n",
    "rfe_vif1 = rfe_vif1.sort_values(by = \"VIF\", ascending = False)\n",
    "rfe_vif1"
   ]
  },
  {
   "cell_type": "code",
   "execution_count": 106,
   "metadata": {},
   "outputs": [],
   "source": [
    "rfe_df_X_train= rfe_df_X_train.drop('three', 1,)"
   ]
  },
  {
   "cell_type": "markdown",
   "metadata": {},
   "source": [
    "#### Third Model"
   ]
  },
  {
   "cell_type": "code",
   "execution_count": 107,
   "metadata": {},
   "outputs": [
    {
     "name": "stdout",
     "output_type": "stream",
     "text": [
      "                            OLS Regression Results                            \n",
      "==============================================================================\n",
      "Dep. Variable:                  price   R-squared:                       0.907\n",
      "Model:                            OLS   Adj. R-squared:                  0.902\n",
      "Method:                 Least Squares   F-statistic:                     163.9\n",
      "Date:                Wed, 25 Dec 2019   Prob (F-statistic):           2.55e-65\n",
      "Time:                        16:24:28   Log-Likelihood:                 187.00\n",
      "No. Observations:                 143   AIC:                            -356.0\n",
      "Df Residuals:                     134   BIC:                            -329.3\n",
      "Df Model:                           8                                         \n",
      "Covariance Type:            nonrobust                                         \n",
      "==================================================================================\n",
      "                     coef    std err          t      P>|t|      [0.025      0.975]\n",
      "----------------------------------------------------------------------------------\n",
      "const             -0.1478      0.018     -8.035      0.000      -0.184      -0.111\n",
      "enginelocation     0.3233      0.087      3.715      0.000       0.151       0.495\n",
      "carwidth           0.3036      0.067      4.509      0.000       0.170       0.437\n",
      "curbweight         0.3210      0.079      4.071      0.000       0.165       0.477\n",
      "enginesize         0.5421      0.083      6.523      0.000       0.378       0.706\n",
      "boreratio         -0.1107      0.037     -2.974      0.003      -0.184      -0.037\n",
      "two                0.1481      0.037      3.990      0.000       0.075       0.222\n",
      "bmw                0.2480      0.029      8.413      0.000       0.190       0.306\n",
      "porsche            0.1675      0.053      3.165      0.002       0.063       0.272\n",
      "==============================================================================\n",
      "Omnibus:                       14.299   Durbin-Watson:                   1.965\n",
      "Prob(Omnibus):                  0.001   Jarque-Bera (JB):               19.369\n",
      "Skew:                           0.575   Prob(JB):                     6.22e-05\n",
      "Kurtosis:                       4.389   Cond. No.                         25.4\n",
      "==============================================================================\n",
      "\n",
      "Warnings:\n",
      "[1] Standard Errors assume that the covariance matrix of the errors is correctly specified.\n"
     ]
    }
   ],
   "source": [
    "# Adding a constant variable \n",
    "rfe_df_X_train_addconst2 = sm.add_constant(rfe_df_X_train)\n",
    "# Running the linear model\n",
    "rfe_lm2 = sm.OLS(rfe_df_y_train,rfe_df_X_train_addconst2).fit()\n",
    "print(rfe_lm2.summary())"
   ]
  },
  {
   "cell_type": "code",
   "execution_count": 108,
   "metadata": {},
   "outputs": [
    {
     "data": {
      "text/html": [
       "<div>\n",
       "<style scoped>\n",
       "    .dataframe tbody tr th:only-of-type {\n",
       "        vertical-align: middle;\n",
       "    }\n",
       "\n",
       "    .dataframe tbody tr th {\n",
       "        vertical-align: top;\n",
       "    }\n",
       "\n",
       "    .dataframe thead th {\n",
       "        text-align: right;\n",
       "    }\n",
       "</style>\n",
       "<table border=\"1\" class=\"dataframe\">\n",
       "  <thead>\n",
       "    <tr style=\"text-align: right;\">\n",
       "      <th></th>\n",
       "      <th>Features</th>\n",
       "      <th>VIF</th>\n",
       "    </tr>\n",
       "  </thead>\n",
       "  <tbody>\n",
       "    <tr>\n",
       "      <th>0</th>\n",
       "      <td>const</td>\n",
       "      <td>10.59</td>\n",
       "    </tr>\n",
       "    <tr>\n",
       "      <th>3</th>\n",
       "      <td>curbweight</td>\n",
       "      <td>8.62</td>\n",
       "    </tr>\n",
       "    <tr>\n",
       "      <th>4</th>\n",
       "      <td>enginesize</td>\n",
       "      <td>5.13</td>\n",
       "    </tr>\n",
       "    <tr>\n",
       "      <th>2</th>\n",
       "      <td>carwidth</td>\n",
       "      <td>4.80</td>\n",
       "    </tr>\n",
       "    <tr>\n",
       "      <th>5</th>\n",
       "      <td>boreratio</td>\n",
       "      <td>1.85</td>\n",
       "    </tr>\n",
       "    <tr>\n",
       "      <th>8</th>\n",
       "      <td>porsche</td>\n",
       "      <td>1.80</td>\n",
       "    </tr>\n",
       "    <tr>\n",
       "      <th>1</th>\n",
       "      <td>enginelocation</td>\n",
       "      <td>1.65</td>\n",
       "    </tr>\n",
       "    <tr>\n",
       "      <th>6</th>\n",
       "      <td>two</td>\n",
       "      <td>1.17</td>\n",
       "    </tr>\n",
       "    <tr>\n",
       "      <th>7</th>\n",
       "      <td>bmw</td>\n",
       "      <td>1.09</td>\n",
       "    </tr>\n",
       "  </tbody>\n",
       "</table>\n",
       "</div>"
      ],
      "text/plain": [
       "         Features    VIF\n",
       "0           const  10.59\n",
       "3      curbweight   8.62\n",
       "4      enginesize   5.13\n",
       "2        carwidth   4.80\n",
       "5       boreratio   1.85\n",
       "8         porsche   1.80\n",
       "1  enginelocation   1.65\n",
       "6             two   1.17\n",
       "7             bmw   1.09"
      ]
     },
     "execution_count": 108,
     "metadata": {},
     "output_type": "execute_result"
    }
   ],
   "source": [
    "# Check for the VIF values of the feature variables. \n",
    "from statsmodels.stats.outliers_influence import variance_inflation_factor\n",
    "# Create a dataframe that will contain the names of all the feature variables and their respective VIFs\n",
    "rfe_vif2 = pd.DataFrame()\n",
    "rfe_vif2['Features'] = rfe_df_X_train.columns\n",
    "rfe_vif2['VIF'] = [variance_inflation_factor(rfe_df_X_train.values, i) for i in range(rfe_df_X_train.shape[1])]\n",
    "rfe_vif2['VIF'] = round(rfe_vif2['VIF'], 2)\n",
    "rfe_vif2 = rfe_vif2.sort_values(by = \"VIF\", ascending = False)\n",
    "rfe_vif2"
   ]
  },
  {
   "cell_type": "code",
   "execution_count": 109,
   "metadata": {},
   "outputs": [],
   "source": [
    "rfe_df_X_train= rfe_df_X_train.drop('curbweight', 1,)"
   ]
  },
  {
   "cell_type": "markdown",
   "metadata": {},
   "source": [
    "#### Fourth Model"
   ]
  },
  {
   "cell_type": "code",
   "execution_count": 110,
   "metadata": {},
   "outputs": [
    {
     "name": "stdout",
     "output_type": "stream",
     "text": [
      "                            OLS Regression Results                            \n",
      "==============================================================================\n",
      "Dep. Variable:                  price   R-squared:                       0.896\n",
      "Model:                            OLS   Adj. R-squared:                  0.890\n",
      "Method:                 Least Squares   F-statistic:                     165.9\n",
      "Date:                Wed, 25 Dec 2019   Prob (F-statistic):           4.55e-63\n",
      "Time:                        16:24:28   Log-Likelihood:                 178.67\n",
      "No. Observations:                 143   AIC:                            -341.3\n",
      "Df Residuals:                     135   BIC:                            -317.6\n",
      "Df Model:                           7                                         \n",
      "Covariance Type:            nonrobust                                         \n",
      "==================================================================================\n",
      "                     coef    std err          t      P>|t|      [0.025      0.975]\n",
      "----------------------------------------------------------------------------------\n",
      "const             -0.1667      0.019     -8.863      0.000      -0.204      -0.129\n",
      "enginelocation     0.3512      0.092      3.833      0.000       0.170       0.532\n",
      "carwidth           0.4714      0.056      8.385      0.000       0.360       0.583\n",
      "enginesize         0.7544      0.068     11.041      0.000       0.619       0.890\n",
      "boreratio         -0.0679      0.038     -1.800      0.074      -0.142       0.007\n",
      "two                0.1751      0.039      4.539      0.000       0.099       0.251\n",
      "bmw                0.2489      0.031      7.993      0.000       0.187       0.310\n",
      "porsche            0.1079      0.054      2.010      0.046       0.002       0.214\n",
      "==============================================================================\n",
      "Omnibus:                       12.708   Durbin-Watson:                   2.039\n",
      "Prob(Omnibus):                  0.002   Jarque-Bera (JB):               13.708\n",
      "Skew:                           0.648   Prob(JB):                      0.00106\n",
      "Kurtosis:                       3.789   Cond. No.                         21.7\n",
      "==============================================================================\n",
      "\n",
      "Warnings:\n",
      "[1] Standard Errors assume that the covariance matrix of the errors is correctly specified.\n"
     ]
    }
   ],
   "source": [
    "# Adding a constant variable \n",
    "rfe_df_X_train_addconst3 = sm.add_constant(rfe_df_X_train)\n",
    "# Running the linear model\n",
    "rfe_lm3 = sm.OLS(rfe_df_y_train,rfe_df_X_train_addconst3).fit()\n",
    "print(rfe_lm3.summary())"
   ]
  },
  {
   "cell_type": "code",
   "execution_count": 111,
   "metadata": {},
   "outputs": [
    {
     "data": {
      "text/html": [
       "<div>\n",
       "<style scoped>\n",
       "    .dataframe tbody tr th:only-of-type {\n",
       "        vertical-align: middle;\n",
       "    }\n",
       "\n",
       "    .dataframe tbody tr th {\n",
       "        vertical-align: top;\n",
       "    }\n",
       "\n",
       "    .dataframe thead th {\n",
       "        text-align: right;\n",
       "    }\n",
       "</style>\n",
       "<table border=\"1\" class=\"dataframe\">\n",
       "  <thead>\n",
       "    <tr style=\"text-align: right;\">\n",
       "      <th></th>\n",
       "      <th>Features</th>\n",
       "      <th>VIF</th>\n",
       "    </tr>\n",
       "  </thead>\n",
       "  <tbody>\n",
       "    <tr>\n",
       "      <th>0</th>\n",
       "      <td>const</td>\n",
       "      <td>9.92</td>\n",
       "    </tr>\n",
       "    <tr>\n",
       "      <th>3</th>\n",
       "      <td>enginesize</td>\n",
       "      <td>3.11</td>\n",
       "    </tr>\n",
       "    <tr>\n",
       "      <th>2</th>\n",
       "      <td>carwidth</td>\n",
       "      <td>3.00</td>\n",
       "    </tr>\n",
       "    <tr>\n",
       "      <th>4</th>\n",
       "      <td>boreratio</td>\n",
       "      <td>1.70</td>\n",
       "    </tr>\n",
       "    <tr>\n",
       "      <th>7</th>\n",
       "      <td>porsche</td>\n",
       "      <td>1.66</td>\n",
       "    </tr>\n",
       "    <tr>\n",
       "      <th>1</th>\n",
       "      <td>enginelocation</td>\n",
       "      <td>1.64</td>\n",
       "    </tr>\n",
       "    <tr>\n",
       "      <th>5</th>\n",
       "      <td>two</td>\n",
       "      <td>1.14</td>\n",
       "    </tr>\n",
       "    <tr>\n",
       "      <th>6</th>\n",
       "      <td>bmw</td>\n",
       "      <td>1.09</td>\n",
       "    </tr>\n",
       "  </tbody>\n",
       "</table>\n",
       "</div>"
      ],
      "text/plain": [
       "         Features   VIF\n",
       "0           const  9.92\n",
       "3      enginesize  3.11\n",
       "2        carwidth  3.00\n",
       "4       boreratio  1.70\n",
       "7         porsche  1.66\n",
       "1  enginelocation  1.64\n",
       "5             two  1.14\n",
       "6             bmw  1.09"
      ]
     },
     "execution_count": 111,
     "metadata": {},
     "output_type": "execute_result"
    }
   ],
   "source": [
    "# Check for the VIF values of the feature variables. \n",
    "from statsmodels.stats.outliers_influence import variance_inflation_factor\n",
    "# Create a dataframe that will contain the names of all the feature variables and their respective VIFs\n",
    "rfe_vif3 = pd.DataFrame()\n",
    "rfe_vif3['Features'] = rfe_df_X_train.columns\n",
    "rfe_vif3['VIF'] = [variance_inflation_factor(rfe_df_X_train.values, i) for i in range(rfe_df_X_train.shape[1])]\n",
    "rfe_vif3['VIF'] = round(rfe_vif3['VIF'], 2)\n",
    "rfe_vif3 = rfe_vif3.sort_values(by = \"VIF\", ascending = False)\n",
    "rfe_vif3"
   ]
  },
  {
   "cell_type": "code",
   "execution_count": 112,
   "metadata": {},
   "outputs": [],
   "source": [
    "rfe_df_X_train= rfe_df_X_train.drop('boreratio', 1,)"
   ]
  },
  {
   "cell_type": "markdown",
   "metadata": {},
   "source": [
    "#### Fifth Model"
   ]
  },
  {
   "cell_type": "code",
   "execution_count": 113,
   "metadata": {},
   "outputs": [
    {
     "name": "stdout",
     "output_type": "stream",
     "text": [
      "                            OLS Regression Results                            \n",
      "==============================================================================\n",
      "Dep. Variable:                  price   R-squared:                       0.893\n",
      "Model:                            OLS   Adj. R-squared:                  0.889\n",
      "Method:                 Least Squares   F-statistic:                     189.8\n",
      "Date:                Wed, 25 Dec 2019   Prob (F-statistic):           1.55e-63\n",
      "Time:                        16:24:29   Log-Likelihood:                 176.97\n",
      "No. Observations:                 143   AIC:                            -339.9\n",
      "Df Residuals:                     136   BIC:                            -319.2\n",
      "Df Model:                           6                                         \n",
      "Covariance Type:            nonrobust                                         \n",
      "==================================================================================\n",
      "                     coef    std err          t      P>|t|      [0.025      0.975]\n",
      "----------------------------------------------------------------------------------\n",
      "const             -0.1818      0.017    -10.713      0.000      -0.215      -0.148\n",
      "enginelocation     0.3511      0.092      3.801      0.000       0.168       0.534\n",
      "carwidth           0.4437      0.055      8.139      0.000       0.336       0.552\n",
      "enginesize         0.7330      0.068     10.805      0.000       0.599       0.867\n",
      "two                0.1686      0.039      4.354      0.000       0.092       0.245\n",
      "bmw                0.2463      0.031      7.854      0.000       0.184       0.308\n",
      "porsche            0.0877      0.053      1.656      0.100      -0.017       0.192\n",
      "==============================================================================\n",
      "Omnibus:                        8.774   Durbin-Watson:                   2.031\n",
      "Prob(Omnibus):                  0.012   Jarque-Bera (JB):                8.628\n",
      "Skew:                           0.539   Prob(JB):                       0.0134\n",
      "Kurtosis:                       3.536   Cond. No.                         19.7\n",
      "==============================================================================\n",
      "\n",
      "Warnings:\n",
      "[1] Standard Errors assume that the covariance matrix of the errors is correctly specified.\n"
     ]
    }
   ],
   "source": [
    "# Adding a constant variable \n",
    "rfe_df_X_train_addconst4 = sm.add_constant(rfe_df_X_train)\n",
    "# Running the linear model\n",
    "rfe_lm4 = sm.OLS(rfe_df_y_train,rfe_df_X_train_addconst4).fit()\n",
    "print(rfe_lm4.summary())"
   ]
  },
  {
   "cell_type": "code",
   "execution_count": 114,
   "metadata": {},
   "outputs": [
    {
     "data": {
      "text/html": [
       "<div>\n",
       "<style scoped>\n",
       "    .dataframe tbody tr th:only-of-type {\n",
       "        vertical-align: middle;\n",
       "    }\n",
       "\n",
       "    .dataframe tbody tr th {\n",
       "        vertical-align: top;\n",
       "    }\n",
       "\n",
       "    .dataframe thead th {\n",
       "        text-align: right;\n",
       "    }\n",
       "</style>\n",
       "<table border=\"1\" class=\"dataframe\">\n",
       "  <thead>\n",
       "    <tr style=\"text-align: right;\">\n",
       "      <th></th>\n",
       "      <th>Features</th>\n",
       "      <th>VIF</th>\n",
       "    </tr>\n",
       "  </thead>\n",
       "  <tbody>\n",
       "    <tr>\n",
       "      <th>0</th>\n",
       "      <td>const</td>\n",
       "      <td>7.95</td>\n",
       "    </tr>\n",
       "    <tr>\n",
       "      <th>3</th>\n",
       "      <td>enginesize</td>\n",
       "      <td>3.02</td>\n",
       "    </tr>\n",
       "    <tr>\n",
       "      <th>2</th>\n",
       "      <td>carwidth</td>\n",
       "      <td>2.77</td>\n",
       "    </tr>\n",
       "    <tr>\n",
       "      <th>1</th>\n",
       "      <td>enginelocation</td>\n",
       "      <td>1.64</td>\n",
       "    </tr>\n",
       "    <tr>\n",
       "      <th>6</th>\n",
       "      <td>porsche</td>\n",
       "      <td>1.59</td>\n",
       "    </tr>\n",
       "    <tr>\n",
       "      <th>4</th>\n",
       "      <td>two</td>\n",
       "      <td>1.13</td>\n",
       "    </tr>\n",
       "    <tr>\n",
       "      <th>5</th>\n",
       "      <td>bmw</td>\n",
       "      <td>1.09</td>\n",
       "    </tr>\n",
       "  </tbody>\n",
       "</table>\n",
       "</div>"
      ],
      "text/plain": [
       "         Features   VIF\n",
       "0           const  7.95\n",
       "3      enginesize  3.02\n",
       "2        carwidth  2.77\n",
       "1  enginelocation  1.64\n",
       "6         porsche  1.59\n",
       "4             two  1.13\n",
       "5             bmw  1.09"
      ]
     },
     "execution_count": 114,
     "metadata": {},
     "output_type": "execute_result"
    }
   ],
   "source": [
    "# Check for the VIF values of the feature variables. \n",
    "from statsmodels.stats.outliers_influence import variance_inflation_factor\n",
    "# Create a dataframe that will contain the names of all the feature variables and their respective VIFs\n",
    "rfe_vif4 = pd.DataFrame()\n",
    "rfe_vif4['Features'] = rfe_df_X_train.columns\n",
    "rfe_vif4['VIF'] = [variance_inflation_factor(rfe_df_X_train.values, i) for i in range(rfe_df_X_train.shape[1])]\n",
    "rfe_vif4['VIF'] = round(rfe_vif4['VIF'], 2)\n",
    "rfe_vif4 = rfe_vif4.sort_values(by = \"VIF\", ascending = False)\n",
    "rfe_vif4"
   ]
  },
  {
   "cell_type": "code",
   "execution_count": 115,
   "metadata": {},
   "outputs": [],
   "source": [
    "rfe_df_X_train= rfe_df_X_train.drop('porsche', 1,)"
   ]
  },
  {
   "cell_type": "markdown",
   "metadata": {},
   "source": [
    "#### Sixth Model"
   ]
  },
  {
   "cell_type": "code",
   "execution_count": 116,
   "metadata": {},
   "outputs": [
    {
     "name": "stdout",
     "output_type": "stream",
     "text": [
      "                            OLS Regression Results                            \n",
      "==============================================================================\n",
      "Dep. Variable:                  price   R-squared:                       0.891\n",
      "Model:                            OLS   Adj. R-squared:                  0.887\n",
      "Method:                 Least Squares   F-statistic:                     224.4\n",
      "Date:                Wed, 25 Dec 2019   Prob (F-statistic):           3.81e-64\n",
      "Time:                        16:24:29   Log-Likelihood:                 175.54\n",
      "No. Observations:                 143   AIC:                            -339.1\n",
      "Df Residuals:                     137   BIC:                            -321.3\n",
      "Df Model:                           5                                         \n",
      "Covariance Type:            nonrobust                                         \n",
      "==================================================================================\n",
      "                     coef    std err          t      P>|t|      [0.025      0.975]\n",
      "----------------------------------------------------------------------------------\n",
      "const             -0.1870      0.017    -11.143      0.000      -0.220      -0.154\n",
      "enginelocation     0.4400      0.076      5.814      0.000       0.290       0.590\n",
      "carwidth           0.4606      0.054      8.546      0.000       0.354       0.567\n",
      "enginesize         0.7278      0.068     10.673      0.000       0.593       0.863\n",
      "two                0.1664      0.039      4.274      0.000       0.089       0.243\n",
      "bmw                0.2447      0.032      7.756      0.000       0.182       0.307\n",
      "==============================================================================\n",
      "Omnibus:                        6.554   Durbin-Watson:                   2.034\n",
      "Prob(Omnibus):                  0.038   Jarque-Bera (JB):                6.121\n",
      "Skew:                           0.465   Prob(JB):                       0.0469\n",
      "Kurtosis:                       3.404   Cond. No.                         17.1\n",
      "==============================================================================\n",
      "\n",
      "Warnings:\n",
      "[1] Standard Errors assume that the covariance matrix of the errors is correctly specified.\n"
     ]
    }
   ],
   "source": [
    "# Adding a constant variable \n",
    "rfe_df_X_train_addconst5 = sm.add_constant(rfe_df_X_train)\n",
    "# Running the linear model\n",
    "rfe_lm5 = sm.OLS(rfe_df_y_train,rfe_df_X_train_addconst5).fit()\n",
    "print(rfe_lm5.summary())"
   ]
  },
  {
   "cell_type": "code",
   "execution_count": 117,
   "metadata": {},
   "outputs": [],
   "source": [
    "rfe_df_X_train= rfe_df_X_train.drop(['const'],axis=1)"
   ]
  },
  {
   "cell_type": "code",
   "execution_count": 118,
   "metadata": {},
   "outputs": [
    {
     "data": {
      "text/html": [
       "<div>\n",
       "<style scoped>\n",
       "    .dataframe tbody tr th:only-of-type {\n",
       "        vertical-align: middle;\n",
       "    }\n",
       "\n",
       "    .dataframe tbody tr th {\n",
       "        vertical-align: top;\n",
       "    }\n",
       "\n",
       "    .dataframe thead th {\n",
       "        text-align: right;\n",
       "    }\n",
       "</style>\n",
       "<table border=\"1\" class=\"dataframe\">\n",
       "  <thead>\n",
       "    <tr style=\"text-align: right;\">\n",
       "      <th></th>\n",
       "      <th>Features</th>\n",
       "      <th>VIF</th>\n",
       "    </tr>\n",
       "  </thead>\n",
       "  <tbody>\n",
       "    <tr>\n",
       "      <th>2</th>\n",
       "      <td>enginesize</td>\n",
       "      <td>9.98</td>\n",
       "    </tr>\n",
       "    <tr>\n",
       "      <th>1</th>\n",
       "      <td>carwidth</td>\n",
       "      <td>9.63</td>\n",
       "    </tr>\n",
       "    <tr>\n",
       "      <th>3</th>\n",
       "      <td>two</td>\n",
       "      <td>1.16</td>\n",
       "    </tr>\n",
       "    <tr>\n",
       "      <th>4</th>\n",
       "      <td>bmw</td>\n",
       "      <td>1.13</td>\n",
       "    </tr>\n",
       "    <tr>\n",
       "      <th>0</th>\n",
       "      <td>enginelocation</td>\n",
       "      <td>1.08</td>\n",
       "    </tr>\n",
       "  </tbody>\n",
       "</table>\n",
       "</div>"
      ],
      "text/plain": [
       "         Features   VIF\n",
       "2      enginesize  9.98\n",
       "1        carwidth  9.63\n",
       "3             two  1.16\n",
       "4             bmw  1.13\n",
       "0  enginelocation  1.08"
      ]
     },
     "execution_count": 118,
     "metadata": {},
     "output_type": "execute_result"
    }
   ],
   "source": [
    "# from statsmodels.stats.outliers_influence import variance_inflation_factor\n",
    "# Create a dataframe that will contain the names of all the feature variables and their respective VIFs\n",
    "rfe_vif4 = pd.DataFrame()\n",
    "rfe_vif4['Features'] = rfe_df_X_train.columns\n",
    "rfe_vif4['VIF'] = [variance_inflation_factor(rfe_df_X_train.values, i) for i in range(rfe_df_X_train.shape[1])]\n",
    "rfe_vif4['VIF'] = round(rfe_vif4['VIF'], 2)\n",
    "rfe_vif4 = rfe_vif4.sort_values(by = \"VIF\", ascending = False)\n",
    "rfe_vif4"
   ]
  },
  {
   "cell_type": "markdown",
   "metadata": {},
   "source": [
    "#### Residual Analysis for the Test Set"
   ]
  },
  {
   "cell_type": "code",
   "execution_count": 119,
   "metadata": {},
   "outputs": [],
   "source": [
    "y_train_price = rfe_lm5.predict(rfe_df_X_train_addconst5)"
   ]
  },
  {
   "cell_type": "code",
   "execution_count": 120,
   "metadata": {},
   "outputs": [
    {
     "data": {
      "text/plain": [
       "Text(0.5, 0, 'Errors')"
      ]
     },
     "execution_count": 120,
     "metadata": {},
     "output_type": "execute_result"
    },
    {
     "data": {
      "image/png": "[encoded data removed]",
      "text/plain": [
       "<Figure size 432x288 with 1 Axes>"
      ]
     },
     "metadata": {
      "needs_background": "light"
     },
     "output_type": "display_data"
    }
   ],
   "source": [
    "# Plotting the histogram of the error terms\n",
    "fig = plt.figure()\n",
    "sns.distplot((rfe_df_y_train- y_train_price), bins = 20)\n",
    "fig.suptitle('Error Terms', fontsize = 20)                  # Plot heading \n",
    "plt.xlabel('Errors', fontsize = 18)    "
   ]
  },
  {
   "cell_type": "markdown",
   "metadata": {},
   "source": [
    "## Making Predictions Using the Final Model"
   ]
  },
  {
   "cell_type": "markdown",
   "metadata": {},
   "source": [
    "#### Dividing Test Data into X_test and y_test"
   ]
  },
  {
   "cell_type": "code",
   "execution_count": 121,
   "metadata": {},
   "outputs": [],
   "source": [
    "y_test = rfe_df_test.pop('price')\n",
    "X_test = rfe_df_test"
   ]
  },
  {
   "cell_type": "code",
   "execution_count": 122,
   "metadata": {},
   "outputs": [],
   "source": [
    "X_test_m4 = X_test.drop(['symboling','fueltype', 'aspiration', 'doornumber',\n",
    "                         'wheelbase', 'carlength', 'carheight', 'curbweight', \n",
    "                        'boreratio', 'stroke', 'compressionratio', 'horsepower', \n",
    "                         'peakrpm', 'citympg', 'highwaympg', 'hardtop', 'hatchback', 'sedan',\n",
    "                         'wagon', 'fwd', 'rwd', 'dohcv', 'l', 'ohc', 'ohcf', 'ohcv' ,'rotor', 'five', \n",
    "                         'four', 'six', 'three', 'twelve', '2bbl', '4bbl', 'idi', 'mfi', \n",
    "                         'mpfi', 'spdi', 'spfi', 'audi', 'buick', 'chevrolet', 'dodge', \n",
    "                         'honda', 'isuzu', 'jaguar', 'mazda', 'mercury', 'mitsubishi', 'nissan', \n",
    "                         'peugeot', 'plymouth', 'porsche', 'renault', 'saab', 'subaru', 'toyota', \n",
    "                         'volkswagen', 'volvo'],axis=1)"
   ]
  },
  {
   "cell_type": "code",
   "execution_count": 123,
   "metadata": {},
   "outputs": [
    {
     "name": "stdout",
     "output_type": "stream",
     "text": [
      "                            OLS Regression Results                            \n",
      "==============================================================================\n",
      "Dep. Variable:                  price   R-squared:                       0.905\n",
      "Model:                            OLS   Adj. R-squared:                  0.898\n",
      "Method:                 Least Squares   F-statistic:                     135.0\n",
      "Date:                Wed, 25 Dec 2019   Prob (F-statistic):           2.28e-28\n",
      "Time:                        16:24:30   Log-Likelihood:                 81.829\n",
      "No. Observations:                  62   AIC:                            -153.7\n",
      "Df Residuals:                      57   BIC:                            -143.0\n",
      "Df Model:                           4                                         \n",
      "Covariance Type:            nonrobust                                         \n",
      "==================================================================================\n",
      "                     coef    std err          t      P>|t|      [0.025      0.975]\n",
      "----------------------------------------------------------------------------------\n",
      "const             -0.0759      0.018     -4.157      0.000      -0.112      -0.039\n",
      "enginelocation     0.4172      0.056      7.506      0.000       0.306       0.529\n",
      "carwidth           0.3379      0.064      5.305      0.000       0.210       0.465\n",
      "enginesize         0.6058      0.074      8.236      0.000       0.458       0.753\n",
      "two                     0          0        nan        nan           0           0\n",
      "bmw                0.2075      0.050      4.172      0.000       0.108       0.307\n",
      "==============================================================================\n",
      "Omnibus:                        0.075   Durbin-Watson:                   2.097\n",
      "Prob(Omnibus):                  0.963   Jarque-Bera (JB):                0.248\n",
      "Skew:                           0.052   Prob(JB):                        0.884\n",
      "Kurtosis:                       2.709   Cond. No.                          inf\n",
      "==============================================================================\n",
      "\n",
      "Warnings:\n",
      "[1] Standard Errors assume that the covariance matrix of the errors is correctly specified.\n",
      "[2] The smallest eigenvalue is      0. This might indicate that there are\n",
      "strong multicollinearity problems or that the design matrix is singular.\n"
     ]
    }
   ],
   "source": [
    "X_test_m4 = sm.add_constant(X_test_m4)\n",
    "lm6=sm.OLS(y_test,X_test_m4).fit()\n",
    "print(lm6.summary())"
   ]
  },
  {
   "cell_type": "markdown",
   "metadata": {},
   "source": [
    "### Making predictions"
   ]
  },
  {
   "cell_type": "code",
   "execution_count": 124,
   "metadata": {},
   "outputs": [],
   "source": [
    "y_pred = rfe_lm5.predict(X_test_m4)"
   ]
  },
  {
   "cell_type": "markdown",
   "metadata": {},
   "source": [
    "## Step 9: Model Evaluation\n",
    "\n",
    "Let's now plot the graph for actual versus predicted values."
   ]
  },
  {
   "cell_type": "code",
   "execution_count": 125,
   "metadata": {},
   "outputs": [
    {
     "data": {
      "image/png": "[encoded data removed]",
      "text/plain": [
       "<Figure size 432x288 with 1 Axes>"
      ]
     },
     "metadata": {
      "needs_background": "light"
     },
     "output_type": "display_data"
    }
   ],
   "source": [
    "# Plotting y_test and y_pred to understand the spread\n",
    "fig = plt.figure()\n",
    "plt.scatter(y_test, y_pred)\n",
    "fig.suptitle('y_test vs y_pred', fontsize = 20) # Plot heading \n",
    "plt.xlabel('y_test', fontsize = 18) # X-label\n",
    "plt.ylabel('y_pred', fontsize = 16)   \n",
    "plt.show()"
   ]
  },
  {
   "cell_type": "markdown",
   "metadata": {},
   "source": [
    "We can see that the equation of our best fitted line is:\n",
    "\n",
    "$ price = 0.4172 \\times enginelocation + 0.3379  \\times  carwidth + 0.6058 \\times enginesize + 0.2075 \\times bmw + 0 \\times two $ "
   ]
  },
  {
   "cell_type": "markdown",
   "metadata": {},
   "source": [
    "# Calculating the R-squared score on the test set."
   ]
  },
  {
   "cell_type": "code",
   "execution_count": 126,
   "metadata": {},
   "outputs": [
    {
     "data": {
      "text/plain": [
       "0.8286146770148788"
      ]
     },
     "execution_count": 126,
     "metadata": {},
     "output_type": "execute_result"
    }
   ],
   "source": [
    "from sklearn.metrics import r2_score\n",
    "r2_score(y_test, y_pred)"
   ]
  },
  {
   "cell_type": "code",
   "execution_count": null,
   "metadata": {},
   "outputs": [],
   "source": []
  }
 ],
 "metadata": {
  "kernelspec": {
   "display_name": "Python 3",
   "language": "python",
   "name": "python3"
  },
  "language_info": {
   "codemirror_mode": {
    "name": "ipython",
    "version": 3
   },
   "file_extension": ".py",
   "mimetype": "text/x-python",
   "name": "python",
   "nbconvert_exporter": "python",
   "pygments_lexer": "ipython3",
   "version": "3.7.3"
  }
 },
 "nbformat": 4,
 "nbformat_minor": 2
}
